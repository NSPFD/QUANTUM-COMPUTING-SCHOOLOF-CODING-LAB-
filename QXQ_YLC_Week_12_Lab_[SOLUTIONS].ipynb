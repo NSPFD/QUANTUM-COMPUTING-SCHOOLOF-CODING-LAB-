{
  "cells": [
    {
      "cell_type": "markdown",
      "metadata": {
        "id": "view-in-github",
        "colab_type": "text"
      },
      "source": [
        "<a href=\"https://colab.research.google.com/github/NSPFD/QUANTUM-COMPUTING-SCHOOLOF-CODING-LAB-/blob/main/QXQ_YLC_Week_12_Lab_%5BSOLUTIONS%5D.ipynb\" target=\"_parent\"><img src=\"https://colab.research.google.com/assets/colab-badge.svg\" alt=\"Open In Colab\"/></a>"
      ]
    },
    {
      "cell_type": "markdown",
      "id": "2b5624a2-65dd-4659-bcd3-d1fbed560d58",
      "metadata": {
        "id": "2b5624a2-65dd-4659-bcd3-d1fbed560d58"
      },
      "source": [
        "# **Lab 12: Review**\n",
        "---\n",
        "\n",
        "### **Description**:\n",
        "In today's lab, we will review concepts from the first semester that will be useful for us to implement more complex quantum circuits going forward.\n",
        "\n",
        "**[ADVANCED]** Then, we will delve into the practical implementation of the Quantum Teleportation protocol through Cirq. Our objectives for this session are threefold:\n",
        "\n",
        "1. To grasp one of the foundational Quantum Protocols, providing essential knowledge for those involved in this field.\n",
        "\n",
        "2. To lay a solid foundation for our upcoming discussions on Quantum Networking, which is just a few weeks away.\n",
        "\n",
        "3. To seize the opportunity to brush up on your skills in coding quantum circuits using Cirq.\n",
        "\n",
        "<br>\n",
        "\n",
        "### **Structure**\n",
        "**Part 1**: [Quantum Circuits](#p1)\n",
        "\n",
        "**Part 2**: [Quantum Teleportation [ADVANCED]](#p2)\n",
        "\n",
        "\n",
        "<br>\n",
        "\n",
        "### **Resources**\n",
        "* [Cirq Basics Cheat Sheet](https://docs.google.com/document/d/1j0vEwtS6fK-tD1DWAPry4tJdxEiq8fwMtXuYNGRhK_M/edit?usp=drive_link)\n",
        "\n",
        "\n",
        "<br>\n",
        "\n",
        "**Before starting, run the code below to import all necessary functions and libraries.**"
      ]
    },
    {
      "cell_type": "code",
      "execution_count": null,
      "id": "536b5e25-05bc-4923-8636-595d63809535",
      "metadata": {
        "id": "536b5e25-05bc-4923-8636-595d63809535",
        "colab": {
          "base_uri": "https://localhost:8080/"
        },
        "outputId": "ea29e4ab-989a-4691-a728-96a4866c9a1c"
      },
      "outputs": [
        {
          "output_type": "stream",
          "name": "stdout",
          "text": [
            "installing cirq...\n",
            "\u001b[2K     \u001b[90m━━━━━━━━━━━━━━━━━━━━━━━━━━━━━━━━━━━━━━━━\u001b[0m \u001b[32m1.8/1.8 MB\u001b[0m \u001b[31m7.6 MB/s\u001b[0m eta \u001b[36m0:00:00\u001b[0m\n",
            "\u001b[2K     \u001b[90m━━━━━━━━━━━━━━━━━━━━━━━━━━━━━━━━━━━━━━━━\u001b[0m \u001b[32m143.1/143.1 kB\u001b[0m \u001b[31m6.9 MB/s\u001b[0m eta \u001b[36m0:00:00\u001b[0m\n",
            "\u001b[2K     \u001b[90m━━━━━━━━━━━━━━━━━━━━━━━━━━━━━━━━━━━━━━━━\u001b[0m \u001b[32m598.8/598.8 kB\u001b[0m \u001b[31m12.8 MB/s\u001b[0m eta \u001b[36m0:00:00\u001b[0m\n",
            "\u001b[2K     \u001b[90m━━━━━━━━━━━━━━━━━━━━━━━━━━━━━━━━━━━━━━━━\u001b[0m \u001b[32m60.9/60.9 kB\u001b[0m \u001b[31m511.5 kB/s\u001b[0m eta \u001b[36m0:00:00\u001b[0m\n",
            "\u001b[2K     \u001b[90m━━━━━━━━━━━━━━━━━━━━━━━━━━━━━━━━━━━━━━━━\u001b[0m \u001b[32m66.2/66.2 kB\u001b[0m \u001b[31m1.1 MB/s\u001b[0m eta \u001b[36m0:00:00\u001b[0m\n",
            "\u001b[2K     \u001b[90m━━━━━━━━━━━━━━━━━━━━━━━━━━━━━━━━━━━━━━━━\u001b[0m \u001b[32m596.5/596.5 kB\u001b[0m \u001b[31m6.3 MB/s\u001b[0m eta \u001b[36m0:00:00\u001b[0m\n",
            "\u001b[2K     \u001b[90m━━━━━━━━━━━━━━━━━━━━━━━━━━━━━━━━━━━━━━━━\u001b[0m \u001b[32m223.8/223.8 kB\u001b[0m \u001b[31m9.4 MB/s\u001b[0m eta \u001b[36m0:00:00\u001b[0m\n",
            "\u001b[2K     \u001b[90m━━━━━━━━━━━━━━━━━━━━━━━━━━━━━━━━━━━━━━━━\u001b[0m \u001b[32m229.9/229.9 kB\u001b[0m \u001b[31m9.8 MB/s\u001b[0m eta \u001b[36m0:00:00\u001b[0m\n",
            "\u001b[?25h  Preparing metadata (setup.py) ... \u001b[?25l\u001b[?25hdone\n",
            "\u001b[2K     \u001b[90m━━━━━━━━━━━━━━━━━━━━━━━━━━━━━━━━━━━━━━━━\u001b[0m \u001b[32m151.7/151.7 kB\u001b[0m \u001b[31m4.3 MB/s\u001b[0m eta \u001b[36m0:00:00\u001b[0m\n",
            "\u001b[2K     \u001b[90m━━━━━━━━━━━━━━━━━━━━━━━━━━━━━━━━━━━━━━━━\u001b[0m \u001b[32m45.6/45.6 kB\u001b[0m \u001b[31m2.1 MB/s\u001b[0m eta \u001b[36m0:00:00\u001b[0m\n",
            "\u001b[?25h  Preparing metadata (setup.py) ... \u001b[?25l\u001b[?25hdone\n",
            "\u001b[2K     \u001b[90m━━━━━━━━━━━━━━━━━━━━━━━━━━━━━━━━━━━━━━━━\u001b[0m \u001b[32m1.6/1.6 MB\u001b[0m \u001b[31m56.2 MB/s\u001b[0m eta \u001b[36m0:00:00\u001b[0m\n",
            "\u001b[2K     \u001b[90m━━━━━━━━━━━━━━━━━━━━━━━━━━━━━━━━━━━━━━━━\u001b[0m \u001b[32m151.7/151.7 kB\u001b[0m \u001b[31m14.4 MB/s\u001b[0m eta \u001b[36m0:00:00\u001b[0m\n",
            "\u001b[2K     \u001b[90m━━━━━━━━━━━━━━━━━━━━━━━━━━━━━━━━━━━━━━━━\u001b[0m \u001b[32m151.7/151.7 kB\u001b[0m \u001b[31m12.5 MB/s\u001b[0m eta \u001b[36m0:00:00\u001b[0m\n",
            "\u001b[2K     \u001b[90m━━━━━━━━━━━━━━━━━━━━━━━━━━━━━━━━━━━━━━━━\u001b[0m \u001b[32m147.4/147.4 kB\u001b[0m \u001b[31m13.9 MB/s\u001b[0m eta \u001b[36m0:00:00\u001b[0m\n",
            "\u001b[2K     \u001b[90m━━━━━━━━━━━━━━━━━━━━━━━━━━━━━━━━━━━━━━━━\u001b[0m \u001b[32m147.4/147.4 kB\u001b[0m \u001b[31m12.6 MB/s\u001b[0m eta \u001b[36m0:00:00\u001b[0m\n",
            "\u001b[2K     \u001b[90m━━━━━━━━━━━━━━━━━━━━━━━━━━━━━━━━━━━━━━━━\u001b[0m \u001b[32m147.4/147.4 kB\u001b[0m \u001b[31m14.7 MB/s\u001b[0m eta \u001b[36m0:00:00\u001b[0m\n",
            "\u001b[2K     \u001b[90m━━━━━━━━━━━━━━━━━━━━━━━━━━━━━━━━━━━━━━━━\u001b[0m \u001b[32m142.7/142.7 kB\u001b[0m \u001b[31m14.1 MB/s\u001b[0m eta \u001b[36m0:00:00\u001b[0m\n",
            "\u001b[2K     \u001b[90m━━━━━━━━━━━━━━━━━━━━━━━━━━━━━━━━━━━━━━━━\u001b[0m \u001b[32m84.7/84.7 kB\u001b[0m \u001b[31m9.9 MB/s\u001b[0m eta \u001b[36m0:00:00\u001b[0m\n",
            "\u001b[2K     \u001b[90m━━━━━━━━━━━━━━━━━━━━━━━━━━━━━━━━━━━━━━━━\u001b[0m \u001b[32m83.6/83.6 kB\u001b[0m \u001b[31m8.6 MB/s\u001b[0m eta \u001b[36m0:00:00\u001b[0m\n",
            "\u001b[2K     \u001b[90m━━━━━━━━━━━━━━━━━━━━━━━━━━━━━━━━━━━━━━━━\u001b[0m \u001b[32m83.3/83.3 kB\u001b[0m \u001b[31m8.3 MB/s\u001b[0m eta \u001b[36m0:00:00\u001b[0m\n",
            "\u001b[2K     \u001b[90m━━━━━━━━━━━━━━━━━━━━━━━━━━━━━━━━━━━━━━━━\u001b[0m \u001b[32m83.4/83.4 kB\u001b[0m \u001b[31m9.4 MB/s\u001b[0m eta \u001b[36m0:00:00\u001b[0m\n",
            "\u001b[2K     \u001b[90m━━━━━━━━━━━━━━━━━━━━━━━━━━━━━━━━━━━━━━━━\u001b[0m \u001b[32m83.2/83.2 kB\u001b[0m \u001b[31m7.0 MB/s\u001b[0m eta \u001b[36m0:00:00\u001b[0m\n",
            "\u001b[2K     \u001b[90m━━━━━━━━━━━━━━━━━━━━━━━━━━━━━━━━━━━━━━━━\u001b[0m \u001b[32m82.5/82.5 kB\u001b[0m \u001b[31m3.8 MB/s\u001b[0m eta \u001b[36m0:00:00\u001b[0m\n",
            "\u001b[2K     \u001b[90m━━━━━━━━━━━━━━━━━━━━━━━━━━━━━━━━━━━━━━━━\u001b[0m \u001b[32m81.0/81.0 kB\u001b[0m \u001b[31m7.2 MB/s\u001b[0m eta \u001b[36m0:00:00\u001b[0m\n",
            "\u001b[2K     \u001b[90m━━━━━━━━━━━━━━━━━━━━━━━━━━━━━━━━━━━━━━━━\u001b[0m \u001b[32m81.0/81.0 kB\u001b[0m \u001b[31m7.5 MB/s\u001b[0m eta \u001b[36m0:00:00\u001b[0m\n",
            "\u001b[2K     \u001b[90m━━━━━━━━━━━━━━━━━━━━━━━━━━━━━━━━━━━━━━━━\u001b[0m \u001b[32m80.8/80.8 kB\u001b[0m \u001b[31m7.5 MB/s\u001b[0m eta \u001b[36m0:00:00\u001b[0m\n",
            "\u001b[2K     \u001b[90m━━━━━━━━━━━━━━━━━━━━━━━━━━━━━━━━━━━━━━━━\u001b[0m \u001b[32m80.7/80.7 kB\u001b[0m \u001b[31m7.9 MB/s\u001b[0m eta \u001b[36m0:00:00\u001b[0m\n",
            "\u001b[2K     \u001b[90m━━━━━━━━━━━━━━━━━━━━━━━━━━━━━━━━━━━━━━━━\u001b[0m \u001b[32m81.5/81.5 kB\u001b[0m \u001b[31m7.1 MB/s\u001b[0m eta \u001b[36m0:00:00\u001b[0m\n",
            "\u001b[2K     \u001b[90m━━━━━━━━━━━━━━━━━━━━━━━━━━━━━━━━━━━━━━━━\u001b[0m \u001b[32m90.4/90.4 kB\u001b[0m \u001b[31m7.9 MB/s\u001b[0m eta \u001b[36m0:00:00\u001b[0m\n",
            "\u001b[2K     \u001b[90m━━━━━━━━━━━━━━━━━━━━━━━━━━━━━━━━━━━━━━━━\u001b[0m \u001b[32m117.7/117.7 kB\u001b[0m \u001b[31m13.6 MB/s\u001b[0m eta \u001b[36m0:00:00\u001b[0m\n",
            "\u001b[2K     \u001b[90m━━━━━━━━━━━━━━━━━━━━━━━━━━━━━━━━━━━━━━━━\u001b[0m \u001b[32m60.6/60.6 kB\u001b[0m \u001b[31m6.2 MB/s\u001b[0m eta \u001b[36m0:00:00\u001b[0m\n",
            "\u001b[2K     \u001b[90m━━━━━━━━━━━━━━━━━━━━━━━━━━━━━━━━━━━━━━━━\u001b[0m \u001b[32m71.5/71.5 kB\u001b[0m \u001b[31m6.4 MB/s\u001b[0m eta \u001b[36m0:00:00\u001b[0m\n",
            "\u001b[2K     \u001b[90m━━━━━━━━━━━━━━━━━━━━━━━━━━━━━━━━━━━━━━━━\u001b[0m \u001b[32m1.7/1.7 MB\u001b[0m \u001b[31m20.8 MB/s\u001b[0m eta \u001b[36m0:00:00\u001b[0m\n",
            "\u001b[2K     \u001b[90m━━━━━━━━━━━━━━━━━━━━━━━━━━━━━━━━━━━━━━━━\u001b[0m \u001b[32m116.4/116.4 kB\u001b[0m \u001b[31m6.8 MB/s\u001b[0m eta \u001b[36m0:00:00\u001b[0m\n",
            "\u001b[2K     \u001b[90m━━━━━━━━━━━━━━━━━━━━━━━━━━━━━━━━━━━━━━━━\u001b[0m \u001b[32m69.6/69.6 kB\u001b[0m \u001b[31m6.5 MB/s\u001b[0m eta \u001b[36m0:00:00\u001b[0m\n",
            "\u001b[2K     \u001b[90m━━━━━━━━━━━━━━━━━━━━━━━━━━━━━━━━━━━━━━━━\u001b[0m \u001b[32m526.7/526.7 kB\u001b[0m \u001b[31m22.2 MB/s\u001b[0m eta \u001b[36m0:00:00\u001b[0m\n",
            "\u001b[2K     \u001b[90m━━━━━━━━━━━━━━━━━━━━━━━━━━━━━━━━━━━━━━━━\u001b[0m \u001b[32m58.3/58.3 kB\u001b[0m \u001b[31m5.4 MB/s\u001b[0m eta \u001b[36m0:00:00\u001b[0m\n",
            "\u001b[?25h  Building wheel for lark (setup.py) ... \u001b[?25l\u001b[?25hdone\n",
            "  Building wheel for rpcq (setup.py) ... \u001b[?25l\u001b[?25hdone\n",
            "\u001b[31mERROR: pip's dependency resolver does not currently take into account all the packages that are installed. This behaviour is the source of the following dependency conflicts.\n",
            "lida 0.0.10 requires fastapi, which is not installed.\n",
            "lida 0.0.10 requires kaleido, which is not installed.\n",
            "lida 0.0.10 requires python-multipart, which is not installed.\n",
            "lida 0.0.10 requires uvicorn, which is not installed.\n",
            "referencing 0.32.0 requires attrs>=22.2.0, but you have attrs 21.4.0 which is incompatible.\u001b[0m\u001b[31m\n",
            "\u001b[0minstalled cirq.\n"
          ]
        }
      ],
      "source": [
        "import random\n",
        "import matplotlib.pyplot as plt\n",
        "import numpy as np\n",
        "def binary_labels(num_qubits):\n",
        "    return [bin(x)[2:].zfill(num_qubits) for x in range(2 ** num_qubits)]\n",
        "plt.rcParams.update({'font.size': 8})\n",
        "try:\n",
        "    import cirq\n",
        "except ImportError:\n",
        "    print(\"installing cirq...\")\n",
        "    !pip install cirq --quiet\n",
        "    import cirq\n",
        "    print(\"installed cirq.\")"
      ]
    },
    {
      "cell_type": "markdown",
      "source": [
        "<a name=\"p1\"></a>\n",
        "\n",
        "---\n",
        "## **Part 1: Quantum Circuits**\n",
        "---\n",
        "In this part, you will review how to create and work with quantum circuits in Cirq."
      ],
      "metadata": {
        "id": "zHBGjz26c9QP"
      },
      "id": "zHBGjz26c9QP"
    },
    {
      "cell_type": "markdown",
      "source": [
        "####**Problem #1.1**\n",
        "**Together**, create a qubit and an empty circuit. Apply an X gate to the qubit. Outout your circuit. Output your final state vector in ket notation."
      ],
      "metadata": {
        "id": "0b_cr7tpTTS6"
      },
      "id": "0b_cr7tpTTS6"
    },
    {
      "cell_type": "code",
      "source": [
        "my_qubit = # COMPLETE THIS CODE\n",
        "my_circuit = # COMPLETE THIS CODE"
      ],
      "metadata": {
        "id": "m5irwvFVNSbT"
      },
      "id": "m5irwvFVNSbT",
      "execution_count": null,
      "outputs": []
    },
    {
      "cell_type": "code",
      "source": [
        "# COMPLETE THIS CODE"
      ],
      "metadata": {
        "id": "xEw63GEpNZGF"
      },
      "id": "xEw63GEpNZGF",
      "execution_count": null,
      "outputs": []
    },
    {
      "cell_type": "markdown",
      "source": [
        "######**Solution**"
      ],
      "metadata": {
        "id": "cuiWmlQ5NXmm"
      },
      "id": "cuiWmlQ5NXmm"
    },
    {
      "cell_type": "code",
      "source": [
        "my_qubit = cirq.NamedQubit(\"q0\")\n",
        "my_circuit = cirq.Circuit()\n",
        "my_circuit.append(cirq.X(my_qubit))\n",
        "my_circuit"
      ],
      "metadata": {
        "colab": {
          "base_uri": "https://localhost:8080/",
          "height": 34
        },
        "id": "6HzYOUCKT0Vz",
        "outputId": "e97589e8-bda3-45b3-c2d6-9eedb0464f29"
      },
      "id": "6HzYOUCKT0Vz",
      "execution_count": null,
      "outputs": [
        {
          "output_type": "execute_result",
          "data": {
            "text/plain": [
              "q0: ───X───"
            ],
            "text/html": [
              "<pre style=\"overflow: auto; white-space: pre;\">q0: ───X───</pre>"
            ]
          },
          "metadata": {},
          "execution_count": 2
        }
      ]
    },
    {
      "cell_type": "code",
      "source": [
        "cirq.dirac_notation(cirq.final_state_vector(my_circuit))"
      ],
      "metadata": {
        "colab": {
          "base_uri": "https://localhost:8080/",
          "height": 35
        },
        "id": "6zJ2RE32UFYl",
        "outputId": "28b279eb-4665-4dce-c0ea-14c5ce87e6f9"
      },
      "id": "6zJ2RE32UFYl",
      "execution_count": null,
      "outputs": [
        {
          "output_type": "execute_result",
          "data": {
            "text/plain": [
              "'|1⟩'"
            ],
            "application/vnd.google.colaboratory.intrinsic+json": {
              "type": "string"
            }
          },
          "metadata": {},
          "execution_count": 3
        }
      ]
    },
    {
      "cell_type": "markdown",
      "source": [
        "####**Problem #1.2**\n",
        "**Together**, create two qubits and an empty circuit. Apply an X gate to the first qubit and an H gate to the second qubit. Output the circuit and output the final state vector in ket notation."
      ],
      "metadata": {
        "id": "GYW7_WCGUUna"
      },
      "id": "GYW7_WCGUUna"
    },
    {
      "cell_type": "code",
      "source": [
        "my_qubits = # COMPLETE THIS CODE\n",
        "my_circuit = # COMPLETE THIS CODE"
      ],
      "metadata": {
        "id": "imIxUOOHNfbl"
      },
      "id": "imIxUOOHNfbl",
      "execution_count": null,
      "outputs": []
    },
    {
      "cell_type": "code",
      "source": [
        "# COMPLETE THIS CODE"
      ],
      "metadata": {
        "id": "w_qF9cLjNm-y"
      },
      "id": "w_qF9cLjNm-y",
      "execution_count": null,
      "outputs": []
    },
    {
      "cell_type": "markdown",
      "source": [
        "######**Solution**"
      ],
      "metadata": {
        "id": "At7fZ3XfNojp"
      },
      "id": "At7fZ3XfNojp"
    },
    {
      "cell_type": "code",
      "source": [
        "my_qubits = cirq.NamedQubit.range(2, prefix = \"q\")\n",
        "my_circuit = cirq.Circuit()\n",
        "my_circuit.append(cirq.X(my_qubits[0]))\n",
        "my_circuit.append(cirq.H(my_qubits[1]))\n",
        "my_circuit"
      ],
      "metadata": {
        "colab": {
          "base_uri": "https://localhost:8080/",
          "height": 69
        },
        "id": "AncYjXCoWX8F",
        "outputId": "ffd883ee-8501-4e56-d177-57056431cd17"
      },
      "id": "AncYjXCoWX8F",
      "execution_count": null,
      "outputs": [
        {
          "output_type": "execute_result",
          "data": {
            "text/plain": [
              "q0: ───X───\n",
              "\n",
              "q1: ───H───"
            ],
            "text/html": [
              "<pre style=\"overflow: auto; white-space: pre;\">q0: ───X───\n",
              "\n",
              "q1: ───H───</pre>"
            ]
          },
          "metadata": {},
          "execution_count": 4
        }
      ]
    },
    {
      "cell_type": "code",
      "source": [
        "cirq.dirac_notation(cirq.final_state_vector(my_circuit))"
      ],
      "metadata": {
        "colab": {
          "base_uri": "https://localhost:8080/",
          "height": 35
        },
        "id": "nxGMBbr4Wurv",
        "outputId": "07c6a8d3-5337-4e2b-b5fa-6323b445d48a"
      },
      "id": "nxGMBbr4Wurv",
      "execution_count": null,
      "outputs": [
        {
          "output_type": "execute_result",
          "data": {
            "text/plain": [
              "'0.71|10⟩ + 0.71|11⟩'"
            ],
            "application/vnd.google.colaboratory.intrinsic+json": {
              "type": "string"
            }
          },
          "metadata": {},
          "execution_count": 5
        }
      ]
    },
    {
      "cell_type": "markdown",
      "source": [
        "####**Problem #1.3**\n",
        "**Together**, create 5 qubits and an empty circuit. Append a measurement to each qubit and output your circuit. Then simulate the results of your circuit."
      ],
      "metadata": {
        "id": "iUPnG5oIdteZ"
      },
      "id": "iUPnG5oIdteZ"
    },
    {
      "cell_type": "code",
      "source": [
        "my_qubits = # COMPLETE THIS CODE\n",
        "my_circuit = # COMPLETE THIS CODE"
      ],
      "metadata": {
        "id": "Vvmi2gaINqbt"
      },
      "id": "Vvmi2gaINqbt",
      "execution_count": null,
      "outputs": []
    },
    {
      "cell_type": "code",
      "source": [
        "# COMPLETE THIS CODE"
      ],
      "metadata": {
        "id": "b4leLcp-NwON"
      },
      "id": "b4leLcp-NwON",
      "execution_count": null,
      "outputs": []
    },
    {
      "cell_type": "markdown",
      "source": [
        "######**Solution**"
      ],
      "metadata": {
        "id": "59o5jT8DNxwA"
      },
      "id": "59o5jT8DNxwA"
    },
    {
      "cell_type": "code",
      "source": [
        "my_qubits = cirq.NamedQubit.range(5, prefix = \"q\")\n",
        "my_circuit = cirq.Circuit()\n",
        "my_circuit.append(cirq.measure(my_qubits))\n",
        "my_circuit"
      ],
      "metadata": {
        "colab": {
          "base_uri": "https://localhost:8080/",
          "height": 173
        },
        "id": "bBOxGXeuds3m",
        "outputId": "98809be6-45b3-4acd-bea0-70f4f7b4e8d0"
      },
      "id": "bBOxGXeuds3m",
      "execution_count": null,
      "outputs": [
        {
          "output_type": "execute_result",
          "data": {
            "text/plain": [
              "q0: ───M───\n",
              "       │\n",
              "q1: ───M───\n",
              "       │\n",
              "q2: ───M───\n",
              "       │\n",
              "q3: ───M───\n",
              "       │\n",
              "q4: ───M───"
            ],
            "text/html": [
              "<pre style=\"overflow: auto; white-space: pre;\">q0: ───M───\n",
              "       │\n",
              "q1: ───M───\n",
              "       │\n",
              "q2: ───M───\n",
              "       │\n",
              "q3: ───M───\n",
              "       │\n",
              "q4: ───M───</pre>"
            ]
          },
          "metadata": {},
          "execution_count": 7
        }
      ]
    },
    {
      "cell_type": "code",
      "source": [
        "sim = cirq.Simulator()\n",
        "results = sim.run(my_circuit)\n",
        "results"
      ],
      "metadata": {
        "colab": {
          "base_uri": "https://localhost:8080/"
        },
        "id": "hkerQlDveTyS",
        "outputId": "d1b08b64-bb64-448b-99ce-dc2abfb1d092"
      },
      "id": "hkerQlDveTyS",
      "execution_count": null,
      "outputs": [
        {
          "output_type": "execute_result",
          "data": {
            "text/plain": [
              "q0,q1,q2,q3,q4=0, 0, 0, 0, 0"
            ]
          },
          "metadata": {},
          "execution_count": 8
        }
      ]
    },
    {
      "cell_type": "markdown",
      "source": [
        "####**Problem #1.4**\n",
        "**Independently**, create a qubit and an empty circuit. Append an H gate to your qubit. Output your circuit and output the final state vector in ket notation."
      ],
      "metadata": {
        "id": "BvoSr58ZecFA"
      },
      "id": "BvoSr58ZecFA"
    },
    {
      "cell_type": "code",
      "source": [
        "# COMPLETE THIS CODE"
      ],
      "metadata": {
        "id": "udpaVmCyN0xa"
      },
      "id": "udpaVmCyN0xa",
      "execution_count": null,
      "outputs": []
    },
    {
      "cell_type": "code",
      "source": [
        "# COMPLETE THIS CODE"
      ],
      "metadata": {
        "id": "XEdibwxzN0oU"
      },
      "id": "XEdibwxzN0oU",
      "execution_count": null,
      "outputs": []
    },
    {
      "cell_type": "markdown",
      "source": [
        "######**Solution**"
      ],
      "metadata": {
        "id": "H8RJ2MxtN1Vl"
      },
      "id": "H8RJ2MxtN1Vl"
    },
    {
      "cell_type": "code",
      "source": [
        "my_qubit = cirq.NamedQubit(\"q0\")\n",
        "my_circuit = cirq.Circuit()\n",
        "my_circuit.append(cirq.H(my_qubit))\n",
        "my_circuit"
      ],
      "metadata": {
        "colab": {
          "base_uri": "https://localhost:8080/",
          "height": 34
        },
        "id": "PMB6HLWwe93C",
        "outputId": "d13db47f-a4cd-4dcf-9897-338d0311eb36"
      },
      "id": "PMB6HLWwe93C",
      "execution_count": null,
      "outputs": [
        {
          "output_type": "execute_result",
          "data": {
            "text/plain": [
              "q0: ───H───"
            ],
            "text/html": [
              "<pre style=\"overflow: auto; white-space: pre;\">q0: ───H───</pre>"
            ]
          },
          "metadata": {},
          "execution_count": 13
        }
      ]
    },
    {
      "cell_type": "code",
      "source": [
        "cirq.dirac_notation(cirq.final_state_vector(my_circuit))"
      ],
      "metadata": {
        "colab": {
          "base_uri": "https://localhost:8080/",
          "height": 35
        },
        "id": "Fafsem29fByx",
        "outputId": "ba22f837-d102-4b21-c940-8fe70eba901b"
      },
      "id": "Fafsem29fByx",
      "execution_count": null,
      "outputs": [
        {
          "output_type": "execute_result",
          "data": {
            "text/plain": [
              "'0.71|0⟩ + 0.71|1⟩'"
            ],
            "application/vnd.google.colaboratory.intrinsic+json": {
              "type": "string"
            }
          },
          "metadata": {},
          "execution_count": 14
        }
      ]
    },
    {
      "cell_type": "markdown",
      "source": [
        "####**Problem #1.5**\n",
        "**Independently**, create 3 qubits and an empty circuit. Append an X gate to the first qubit, an H gate to each qubit, and a Z gate to the final qubit. Output your circuit and the final state vector in ket notation."
      ],
      "metadata": {
        "id": "sluP_oWLfFg1"
      },
      "id": "sluP_oWLfFg1"
    },
    {
      "cell_type": "code",
      "source": [
        "# COMPLETE THIS CODE"
      ],
      "metadata": {
        "id": "skYn2cIaOAZs"
      },
      "id": "skYn2cIaOAZs",
      "execution_count": null,
      "outputs": []
    },
    {
      "cell_type": "code",
      "source": [
        "# COMPLETE THIS CODE"
      ],
      "metadata": {
        "id": "ks5WROPuN_tW"
      },
      "id": "ks5WROPuN_tW",
      "execution_count": null,
      "outputs": []
    },
    {
      "cell_type": "markdown",
      "source": [
        "######**Solution**"
      ],
      "metadata": {
        "id": "99KKaqpxOD1A"
      },
      "id": "99KKaqpxOD1A"
    },
    {
      "cell_type": "code",
      "source": [
        "my_qubits = cirq.NamedQubit.range(3, prefix = \"q\")\n",
        "my_circuit = cirq.Circuit()\n",
        "my_circuit.append(cirq.X(my_qubits[0]))\n",
        "my_circuit.append(cirq.H.on_each(my_qubits))\n",
        "my_circuit.append(cirq.Z(my_qubits[2]))\n",
        "my_circuit"
      ],
      "metadata": {
        "colab": {
          "base_uri": "https://localhost:8080/",
          "height": 104
        },
        "id": "z2NWuhjWfdsn",
        "outputId": "3428691e-a120-429b-b787-94e48b815686"
      },
      "id": "z2NWuhjWfdsn",
      "execution_count": null,
      "outputs": [
        {
          "output_type": "execute_result",
          "data": {
            "text/plain": [
              "q0: ───X───H───\n",
              "\n",
              "q1: ───H───────\n",
              "\n",
              "q2: ───H───Z───"
            ],
            "text/html": [
              "<pre style=\"overflow: auto; white-space: pre;\">q0: ───X───H───\n",
              "\n",
              "q1: ───H───────\n",
              "\n",
              "q2: ───H───Z───</pre>"
            ]
          },
          "metadata": {},
          "execution_count": 15
        }
      ]
    },
    {
      "cell_type": "code",
      "source": [
        "cirq.dirac_notation(cirq.final_state_vector(my_circuit))"
      ],
      "metadata": {
        "colab": {
          "base_uri": "https://localhost:8080/",
          "height": 35
        },
        "id": "0hZkQ7EtfsnG",
        "outputId": "5dff5783-2cbc-40e6-ded4-4ed92e6eaf60"
      },
      "id": "0hZkQ7EtfsnG",
      "execution_count": null,
      "outputs": [
        {
          "output_type": "execute_result",
          "data": {
            "text/plain": [
              "'0.35|000⟩ - 0.35|001⟩ + 0.35|010⟩ - 0.35|011⟩ - 0.35|100⟩ + 0.35|101⟩ - 0.35|110⟩ + 0.35|111⟩'"
            ],
            "application/vnd.google.colaboratory.intrinsic+json": {
              "type": "string"
            }
          },
          "metadata": {},
          "execution_count": 16
        }
      ]
    },
    {
      "cell_type": "markdown",
      "source": [
        "####**Problem #1.6**\n",
        "**Independently**, create two qubits and an empty qircuit. Append an H gate to the first, a CNOT gate such that the first qubit is the control qubit and the second qubit is the target qubit, and an H gate to the second qubit. Output your circuit and the final state vector in ket notation."
      ],
      "metadata": {
        "id": "fmH3MS7Pf5Ri"
      },
      "id": "fmH3MS7Pf5Ri"
    },
    {
      "cell_type": "code",
      "source": [
        "# COMPLETE THIS CODE"
      ],
      "metadata": {
        "id": "-R0yCm44OGPN"
      },
      "id": "-R0yCm44OGPN",
      "execution_count": null,
      "outputs": []
    },
    {
      "cell_type": "code",
      "source": [
        "# COMPLETE THIS CODE"
      ],
      "metadata": {
        "id": "fFAGZoCWOF41"
      },
      "id": "fFAGZoCWOF41",
      "execution_count": null,
      "outputs": []
    },
    {
      "cell_type": "markdown",
      "source": [
        "######**Solution**"
      ],
      "metadata": {
        "id": "LHBq2TfQOI-Z"
      },
      "id": "LHBq2TfQOI-Z"
    },
    {
      "cell_type": "code",
      "source": [
        "my_qubits = cirq.NamedQubit.range(2, prefix=\"q\")\n",
        "my_circuit = cirq.Circuit()\n",
        "my_circuit.append(cirq.H(my_qubits[0]))\n",
        "my_circuit.append(cirq.CNOT(my_qubits[0], my_qubits[1]))\n",
        "my_circuit.append(cirq.H(my_qubits[1]))\n",
        "my_circuit"
      ],
      "metadata": {
        "colab": {
          "base_uri": "https://localhost:8080/",
          "height": 69
        },
        "id": "R2aaYaOvgV34",
        "outputId": "6be8f1b3-74b9-4c62-f503-72215580a10a"
      },
      "id": "R2aaYaOvgV34",
      "execution_count": null,
      "outputs": [
        {
          "output_type": "execute_result",
          "data": {
            "text/plain": [
              "q0: ───H───@───────\n",
              "           │\n",
              "q1: ───────X───H───"
            ],
            "text/html": [
              "<pre style=\"overflow: auto; white-space: pre;\">q0: ───H───@───────\n",
              "           │\n",
              "q1: ───────X───H───</pre>"
            ]
          },
          "metadata": {},
          "execution_count": 18
        }
      ]
    },
    {
      "cell_type": "code",
      "source": [
        "cirq.dirac_notation(cirq.final_state_vector(my_circuit))"
      ],
      "metadata": {
        "colab": {
          "base_uri": "https://localhost:8080/",
          "height": 35
        },
        "id": "GCmkRWFPgsSt",
        "outputId": "996c4873-c777-4c24-a920-f2111a4e4ef7"
      },
      "id": "GCmkRWFPgsSt",
      "execution_count": null,
      "outputs": [
        {
          "output_type": "execute_result",
          "data": {
            "text/plain": [
              "'0.5|00⟩ + 0.5|01⟩ + 0.5|10⟩ - 0.5|11⟩'"
            ],
            "application/vnd.google.colaboratory.intrinsic+json": {
              "type": "string"
            }
          },
          "metadata": {},
          "execution_count": 19
        }
      ]
    },
    {
      "cell_type": "markdown",
      "source": [
        "####**Problem #1.7**\n",
        "**Independently**, are the states of the two qubits from Problem #1.6 entangled? Why or why not?"
      ],
      "metadata": {
        "id": "E6-kVW7rg0c-"
      },
      "id": "E6-kVW7rg0c-"
    },
    {
      "cell_type": "code",
      "source": [
        "print(# COMPLETE THIS CODE"
      ],
      "metadata": {
        "id": "fL5nkYmGOKY-"
      },
      "id": "fL5nkYmGOKY-",
      "execution_count": null,
      "outputs": []
    },
    {
      "cell_type": "markdown",
      "source": [
        "######**Solution**"
      ],
      "metadata": {
        "id": "cJRGsfHrONtB"
      },
      "id": "cJRGsfHrONtB"
    },
    {
      "cell_type": "code",
      "source": [
        "print(\"No, because of the second H gate, the state of one qubit tells us nothing about the state of the other.\")"
      ],
      "metadata": {
        "colab": {
          "base_uri": "https://localhost:8080/"
        },
        "id": "iarb5UW-hAEA",
        "outputId": "ead5012f-edb0-4f35-8cca-cbe1df70c5a4"
      },
      "id": "iarb5UW-hAEA",
      "execution_count": null,
      "outputs": [
        {
          "output_type": "stream",
          "name": "stdout",
          "text": [
            "No, because of the second H gate, the state of one qubit tells us nothing about the state of the other.\n"
          ]
        }
      ]
    },
    {
      "cell_type": "markdown",
      "source": [
        "####**Problem #1.8**\n",
        "**Indepently**, create a 3 qubits. Apply an H gate to the first two qubits, a CNOT gate such that the first qubit is the control qubit and the third is the target qubit, and a measurement to each qubit. Output your circuit and simulate the results of your circuit 100 times. Plot the results on a histogram."
      ],
      "metadata": {
        "id": "eoPWpuAFhgdD"
      },
      "id": "eoPWpuAFhgdD"
    },
    {
      "cell_type": "code",
      "source": [
        "# COMPLETE THIS CODE"
      ],
      "metadata": {
        "id": "vs5PV8zMOO-q"
      },
      "id": "vs5PV8zMOO-q",
      "execution_count": null,
      "outputs": []
    },
    {
      "cell_type": "code",
      "source": [
        "# COMPLETE THIS CODE"
      ],
      "metadata": {
        "id": "_kMSjFSAORNv"
      },
      "id": "_kMSjFSAORNv",
      "execution_count": null,
      "outputs": []
    },
    {
      "cell_type": "code",
      "source": [
        "hist = cirq.plot_state_histogram(result, plt.subplot(), title = 'Qubit States', xlabel = 'States', ylabel = 'Occurrences', tick_label=binary_labels(# COMPLETE THIS CODE\n",
        "\n",
        "plt.show()"
      ],
      "metadata": {
        "id": "PngRALwbOVkl"
      },
      "id": "PngRALwbOVkl",
      "execution_count": null,
      "outputs": []
    },
    {
      "cell_type": "markdown",
      "source": [
        "######**Solution**"
      ],
      "metadata": {
        "id": "ridoLMUqOT3j"
      },
      "id": "ridoLMUqOT3j"
    },
    {
      "cell_type": "code",
      "source": [
        "my_qubits = cirq.NamedQubit.range(3, prefix = \"q\")\n",
        "my_circuit = cirq.Circuit()\n",
        "my_circuit.append(cirq.H.on_each(my_qubits[:2]))\n",
        "my_circuit.append(cirq.CNOT(my_qubits[0], my_qubits[2]))\n",
        "my_circuit.append(cirq.measure(my_qubits))\n",
        "my_circuit"
      ],
      "metadata": {
        "colab": {
          "base_uri": "https://localhost:8080/",
          "height": 104
        },
        "id": "crnaDlh6iO76",
        "outputId": "c9c46ea6-bad9-46d0-d270-9987fa999c29"
      },
      "id": "crnaDlh6iO76",
      "execution_count": null,
      "outputs": [
        {
          "output_type": "execute_result",
          "data": {
            "text/plain": [
              "q0: ───H───@───M───\n",
              "           │   │\n",
              "q1: ───H───┼───M───\n",
              "           │   │\n",
              "q2: ───────X───M───"
            ],
            "text/html": [
              "<pre style=\"overflow: auto; white-space: pre;\">q0: ───H───@───M───\n",
              "           │   │\n",
              "q1: ───H───┼───M───\n",
              "           │   │\n",
              "q2: ───────X───M───</pre>"
            ]
          },
          "metadata": {},
          "execution_count": 6
        }
      ]
    },
    {
      "cell_type": "code",
      "source": [
        "sim = cirq.Simulator()\n",
        "result = sim.run(my_circuit, repetitions = 100)"
      ],
      "metadata": {
        "id": "-Ck19rXFBK-g"
      },
      "id": "-Ck19rXFBK-g",
      "execution_count": null,
      "outputs": []
    },
    {
      "cell_type": "code",
      "source": [
        "hist = cirq.plot_state_histogram(result, plt.subplot(), title = 'Qubit States', xlabel = 'States', ylabel = 'Occurrences', tick_label=binary_labels(3))\n",
        "\n",
        "plt.show()"
      ],
      "metadata": {
        "colab": {
          "base_uri": "https://localhost:8080/",
          "height": 460
        },
        "id": "orJxlNmDA8Gq",
        "outputId": "45afeaa1-e407-4a78-89cc-863cf56cf8d3"
      },
      "id": "orJxlNmDA8Gq",
      "execution_count": null,
      "outputs": [
        {
          "output_type": "display_data",
          "data": {
            "text/plain": [
              "<Figure size 640x480 with 1 Axes>"
            ],
            "image/png": "[encoded data removed]"
          },
          "metadata": {}
        }
      ]
    },
    {
      "cell_type": "markdown",
      "source": [
        "####**Problem #1.9**\n",
        "Are the first and third qubits from Problem #1.8 entangled? Why or why not?"
      ],
      "metadata": {
        "id": "-WZjMn7WB-iS"
      },
      "id": "-WZjMn7WB-iS"
    },
    {
      "cell_type": "code",
      "source": [
        "print(# COMPLETE THIS CODE"
      ],
      "metadata": {
        "id": "eocGqPyVOlqu"
      },
      "id": "eocGqPyVOlqu",
      "execution_count": null,
      "outputs": []
    },
    {
      "cell_type": "markdown",
      "source": [
        "######**Solution**"
      ],
      "metadata": {
        "id": "tcqyP47sOqrP"
      },
      "id": "tcqyP47sOqrP"
    },
    {
      "cell_type": "code",
      "source": [
        "print(\"Yes. They are entangled such that they are always in the same state.\")"
      ],
      "metadata": {
        "colab": {
          "base_uri": "https://localhost:8080/"
        },
        "id": "ecQ0XzUiCI3p",
        "outputId": "7406ec7c-9cee-476c-9d8c-8c9689e4f741"
      },
      "id": "ecQ0XzUiCI3p",
      "execution_count": null,
      "outputs": [
        {
          "output_type": "stream",
          "name": "stdout",
          "text": [
            "Yes. They are entangled such that they are always in the same state.\n"
          ]
        }
      ]
    },
    {
      "cell_type": "markdown",
      "id": "b5exHTC2gHzt",
      "metadata": {
        "id": "b5exHTC2gHzt"
      },
      "source": [
        "<a name=\"p2\"></a>\n",
        "\n",
        "---\n",
        "## **Part 2: Implementing Quantum Teleportation**\n",
        "---\n",
        "\n",
        "In this section, we will work together to implement Quantum Teleportation."
      ]
    },
    {
      "cell_type": "markdown",
      "id": "l5EADlD_ij0W",
      "metadata": {
        "id": "l5EADlD_ij0W"
      },
      "source": [
        "#### **Step 1: Alice and Bob share a Bell pair and go their separate ways.**\n",
        "\n",
        "**Together**, let's create a circuit as follows:\n",
        "* It has one qubit that represents the message to be sent, one for Alice, and one for Bob.\n",
        "* It has one classical bit for each qubit measurement.\n",
        "* Creates a Bell state with Alice's and Bob's qubits.\n"
      ]
    },
    {
      "cell_type": "code",
      "execution_count": null,
      "id": "f-Hijs9uj0LU",
      "metadata": {
        "id": "f-Hijs9uj0LU"
      },
      "outputs": [],
      "source": [
        "# Instantiate the circuit\n",
        "\n",
        "\n",
        "# Define three qubits\n",
        "msg = cirq.NamedQubit(\"Message\")\n",
        "alice =\n",
        "bob =\n",
        "# Entangle Alice and Bob's qubits\n",
        "\n",
        "\n",
        "# You can visualize the circuit if needed\n",
        "print(circuit)\n"
      ]
    },
    {
      "cell_type": "markdown",
      "id": "zZP56Gx-j3Mj",
      "metadata": {
        "id": "zZP56Gx-j3Mj"
      },
      "source": [
        "###### **Solution**"
      ]
    },
    {
      "cell_type": "code",
      "execution_count": null,
      "id": "jr9cM3BKE8Wx",
      "metadata": {
        "colab": {
          "base_uri": "https://localhost:8080/"
        },
        "id": "jr9cM3BKE8Wx",
        "outputId": "4339fe8b-050c-4759-de4a-46309ff79695"
      },
      "outputs": [
        {
          "output_type": "stream",
          "name": "stdout",
          "text": [
            "Alice: ───H───@───\n",
            "              │\n",
            "Bob: ─────────X───\n"
          ]
        }
      ],
      "source": [
        "# Instantiate the circuit\n",
        "circuit = cirq.Circuit()\n",
        "\n",
        "# Define three qubits\n",
        "msg = cirq.NamedQubit(\"Message\")\n",
        "alice = cirq.NamedQubit(\"Alice\")\n",
        "bob = cirq.NamedQubit(\"Bob\")\n",
        "\n",
        "# Entangle Alice and Bob's qubits\n",
        "circuit.append([cirq.H(alice), cirq.CNOT(alice, bob)])\n",
        "\n",
        "# You can visualize the circuit if needed\n",
        "print(circuit)\n"
      ]
    },
    {
      "cell_type": "markdown",
      "id": "oAd1jMzOiuTB",
      "metadata": {
        "id": "oAd1jMzOiuTB"
      },
      "source": [
        "#### **Step 2. Alice prepares a special state to teleport to Bob.**\n",
        "\n",
        "**Together**, prepare the teleportation qubit in the $|1\\rangle$ state."
      ]
    },
    {
      "cell_type": "code",
      "execution_count": null,
      "id": "CWS8BdIakAuK",
      "metadata": {
        "id": "CWS8BdIakAuK"
      },
      "outputs": [],
      "source": [
        "# PREPARE THE |1> STATE\n",
        "\n",
        "\n",
        "# You can visualize the circuit if needed\n",
        "print(circuit)"
      ]
    },
    {
      "cell_type": "markdown",
      "id": "j3wO4QXLkA8h",
      "metadata": {
        "id": "j3wO4QXLkA8h"
      },
      "source": [
        "###### **Solution**"
      ]
    },
    {
      "cell_type": "code",
      "execution_count": null,
      "id": "QqNDTTioixC2",
      "metadata": {
        "colab": {
          "base_uri": "https://localhost:8080/"
        },
        "id": "QqNDTTioixC2",
        "outputId": "e7c03a70-c660-4f10-8a95-9207cbfae699"
      },
      "outputs": [
        {
          "output_type": "stream",
          "name": "stdout",
          "text": [
            "Alice: ─────H───@───\n",
            "                │\n",
            "Bob: ───────────X───\n",
            "\n",
            "Message: ───X───────\n"
          ]
        }
      ],
      "source": [
        "# PREPARE THE |1> STATE\n",
        "circuit.append([cirq.X(msg)])\n",
        "\n",
        "# You can visualize the circuit if needed\n",
        "print(circuit)"
      ]
    },
    {
      "cell_type": "markdown",
      "id": "Xc8hoMhOjntY",
      "metadata": {
        "id": "Xc8hoMhOjntY"
      },
      "source": [
        "#### **Step 3. Alice measures her half of the entangled pair and her special state in the “Entangled basis”.**\n",
        "\n",
        "**Together**, add the following to the quantum circuit:\n",
        "* A CX gate applied to the message and Alice's qubits.\n",
        "* An H gate applied to the message qubit.\n",
        "* A measurement of the message and Alice's qubits.\n"
      ]
    },
    {
      "cell_type": "code",
      "execution_count": null,
      "id": "Oq3ru1J2k1Tr",
      "metadata": {
        "id": "Oq3ru1J2k1Tr"
      },
      "outputs": [],
      "source": []
    },
    {
      "cell_type": "markdown",
      "id": "3Fy-59jFk1jx",
      "metadata": {
        "id": "3Fy-59jFk1jx"
      },
      "source": [
        "###### **Solution**"
      ]
    },
    {
      "cell_type": "code",
      "execution_count": null,
      "id": "Uqr_TTmNjsPx",
      "metadata": {
        "colab": {
          "base_uri": "https://localhost:8080/"
        },
        "id": "Uqr_TTmNjsPx",
        "outputId": "f634866f-2bb0-43c6-fe68-1914584f1ea7"
      },
      "outputs": [
        {
          "output_type": "stream",
          "name": "stdout",
          "text": [
            "Alice: ─────H───@───X───────M───\n",
            "                │   │       │\n",
            "Bob: ───────────X───┼───────┼───\n",
            "                    │       │\n",
            "Message: ───X───────@───H───M───\n"
          ]
        }
      ],
      "source": [
        "circuit.append([cirq.CNOT(msg, alice), cirq.H(msg), cirq.measure(msg, alice)])\n",
        "# You can visualize the circuit if needed\n",
        "print(circuit)"
      ]
    },
    {
      "cell_type": "markdown",
      "id": "-co5r9qdkATU",
      "metadata": {
        "id": "-co5r9qdkATU"
      },
      "source": [
        "\n",
        "#### **Step 4. Alice sends Bob her measurement results over a classical channel.**\n"
      ]
    },
    {
      "cell_type": "markdown",
      "id": "hWoLuv_1kGPq",
      "metadata": {
        "id": "hWoLuv_1kGPq"
      },
      "source": [
        "#### **Steps 5. Bob adjusts his half of the Bell pair based on Alice’s measurement results.**\n",
        "\n",
        "**Together**, add the following to the quantum circuit:\n",
        "* An X gate applied to Bob's qubit *if* the result of measuring Alice's qubit was 1.\n",
        "* A Z gate applied to Bob's qubit *if* the result of measuring the teleportation qubit was 1.\n",
        "* A measurement of Bob's qubit."
      ]
    },
    {
      "cell_type": "code",
      "execution_count": null,
      "id": "6f65e479",
      "metadata": {
        "id": "6f65e479"
      },
      "outputs": [],
      "source": [
        "# Apply CNOT between Alice and Bob's qubits\n",
        "# Apply CZ between the message qubit and Bob"
      ]
    },
    {
      "cell_type": "markdown",
      "id": "fDYRaKXPla_G",
      "metadata": {
        "id": "fDYRaKXPla_G"
      },
      "source": [
        "###### **Solution**"
      ]
    },
    {
      "cell_type": "code",
      "execution_count": null,
      "id": "YpiPitW_kEpg",
      "metadata": {
        "id": "YpiPitW_kEpg",
        "colab": {
          "base_uri": "https://localhost:8080/",
          "height": 104
        },
        "outputId": "97c26eec-f908-4d10-dc1e-109346cab57a"
      },
      "outputs": [
        {
          "output_type": "execute_result",
          "data": {
            "text/plain": [
              "Alice: ─────H───@───X───────M───@───────────\n",
              "                │   │       │   │\n",
              "Bob: ───────────X───┼───────┼───X───@───M───\n",
              "                    │       │       │\n",
              "Message: ───X───────@───H───M───────@───────"
            ],
            "text/html": [
              "<pre style=\"overflow: auto; white-space: pre;\">Alice: ─────H───@───X───────M───@───────────\n",
              "                │   │       │   │\n",
              "Bob: ───────────X───┼───────┼───X───@───M───\n",
              "                    │       │       │\n",
              "Message: ───X───────@───H───M───────@───────</pre>"
            ]
          },
          "metadata": {},
          "execution_count": 16
        }
      ],
      "source": [
        "circuit.append([cirq.CNOT(alice, bob), cirq.CZ(msg, bob), cirq.measure(bob)])\n",
        "circuit"
      ]
    },
    {
      "cell_type": "markdown",
      "id": "98Qz4ym-yOjS",
      "metadata": {
        "id": "98Qz4ym-yOjS"
      },
      "source": [
        "#### **Simulating Quantum Teleportation**\n",
        "\n",
        "**Together**, simulate quantum teleportation:\n",
        "1. Simulate our circuit as usual and plot the histogram of results.\n",
        "2. Estimate only Bob's state, getting rid of Alice's states, from the measurement results.\n",
        "\n",
        "In the histogram, when we observe that the third qubit is in the state \"1,\" it confirms that the \"1\" state has indeed been successfully teleported."
      ]
    },
    {
      "cell_type": "code",
      "execution_count": null,
      "id": "78de7529",
      "metadata": {
        "id": "78de7529"
      },
      "outputs": [],
      "source": [
        "# Helper function for plotting\n",
        "def binary_labels(num_qubits):\n",
        "    return [bin(x)[2:].zfill(num_qubits) for x in range(2 ** num_qubits)]\n"
      ]
    },
    {
      "cell_type": "code",
      "source": [
        "# COMPLETE THIS CODE"
      ],
      "metadata": {
        "id": "EHkS1bNsQhia"
      },
      "id": "EHkS1bNsQhia",
      "execution_count": null,
      "outputs": []
    },
    {
      "cell_type": "markdown",
      "source": [
        "######**Solution**"
      ],
      "metadata": {
        "id": "HRgiMI-PDbES"
      },
      "id": "HRgiMI-PDbES"
    },
    {
      "cell_type": "code",
      "execution_count": null,
      "id": "ffb4ab53",
      "metadata": {
        "id": "ffb4ab53",
        "outputId": "22879b65-ab94-4779-ef18-bb41920ac6d9",
        "colab": {
          "base_uri": "https://localhost:8080/",
          "height": 460
        }
      },
      "outputs": [
        {
          "output_type": "display_data",
          "data": {
            "text/plain": [
              "<Figure size 640x480 with 1 Axes>"
            ],
            "image/png": "[encoded data removed]"
          },
          "metadata": {}
        }
      ],
      "source": [
        "\"\"\"Simulate the teleportation circuit and get the final state of Bob's qubit.\"\"\"\n",
        "# Get a simulator.\n",
        "sim = cirq.Simulator()\n",
        "\n",
        "# Simulate the teleportation circuit.\n",
        "result = sim.run(circuit, repetitions=100)\n",
        "\n",
        "_ = cirq.plot_state_histogram(result, plt.subplot(), title = 'Teleportation', xlabel = 'Qubit State', ylabel = 'Result count', tick_label=binary_labels(3))\n",
        "plt.show()\n"
      ]
    },
    {
      "cell_type": "markdown",
      "id": "d94376b4",
      "metadata": {
        "id": "d94376b4"
      },
      "source": [
        "---\n",
        "\n",
        "####**Teleportation in Full**\n",
        "\n",
        "The full Teleportation protocol implementation and simulation is given in the 2 cells below. Complete the exercises based on these 2 cells.\n",
        "\n",
        "---"
      ]
    },
    {
      "cell_type": "code",
      "execution_count": null,
      "id": "ded626f4",
      "metadata": {
        "id": "ded626f4"
      },
      "outputs": [],
      "source": [
        "#=========\n",
        "# STEP #1\n",
        "#=========\n",
        "# Instantiate the circuit\n",
        "circuit = cirq.Circuit()\n",
        "\n",
        "# Define three qubits\n",
        "msg = cirq.NamedQubit(\"Message\")\n",
        "alice = cirq.NamedQubit(\"Alice\")\n",
        "bob = cirq.NamedQubit(\"Bob\")\n",
        "\n",
        "# Create an entangled state between Alice and Bob's qubits\n",
        "circuit.append([cirq.H(alice), cirq.CNOT(alice, bob)])\n",
        "\n",
        "\n",
        "#=========\n",
        "# STEP #2\n",
        "#=========\n",
        "# PREPARE THE |1> STATE\n",
        "circuit.append([cirq.X(msg)])\n",
        "\n",
        "\n",
        "#=========\n",
        "# STEP #3\n",
        "#=========\n",
        "circuit.append([cirq.CNOT(msg, alice), cirq.H(msg), cirq.measure(msg, alice)])\n",
        "\n",
        "\n",
        "#=============\n",
        "# STEPS #4 - 5\n",
        "#=============\n",
        "circuit.append([cirq.CNOT(alice, bob), cirq.CZ(msg, bob), cirq.measure(bob)])\n",
        "\n",
        "# You can visualize the circuit if needed\n",
        "print(circuit)"
      ]
    },
    {
      "cell_type": "code",
      "execution_count": null,
      "id": "64e598a3",
      "metadata": {
        "id": "64e598a3"
      },
      "outputs": [],
      "source": [
        "\"\"\"Simulate the teleportation circuit and get the final state of Bob's qubit.\"\"\"\n",
        "# Get a simulator.\n",
        "sim = cirq.Simulator()\n",
        "\n",
        "# Simulate the teleportation circuit.\n",
        "result = sim.run(circuit, repetitions=100)\n",
        "\n",
        "_ = cirq.plot_state_histogram(result, plt.subplot(), title = 'Teleportation', xlabel = 'Qubit State', ylabel = 'Result count', tick_label=binary_labels(3))\n",
        "plt.show()\n"
      ]
    },
    {
      "cell_type": "markdown",
      "id": "00-dWsePA2ht",
      "metadata": {
        "id": "00-dWsePA2ht"
      },
      "source": [
        "#### **Problem #2.1**\n",
        "\n",
        "**Independently**, modify the code above to teleport the $|+\\rangle$ state. How do we make sure that the $|+\\rangle$ state has indeed been teleported?\n",
        "\n",
        "Hint: One way of doing this is by **reversing the operations** that we start with for the message qubit. To create the $|+\\rangle$ state, we apply the Hadamard gate. To go from the $|+\\rangle$ state to the $|0\\rangle$ state, what gate can we use?"
      ]
    },
    {
      "cell_type": "code",
      "source": [
        "# COMPLETE THIS CODE"
      ],
      "metadata": {
        "id": "MtX_vNWhSNfN"
      },
      "id": "MtX_vNWhSNfN",
      "execution_count": null,
      "outputs": []
    },
    {
      "cell_type": "code",
      "source": [
        "# COMPLETE THIS CODE"
      ],
      "metadata": {
        "id": "CyYOKLWbSNVO"
      },
      "id": "CyYOKLWbSNVO",
      "execution_count": null,
      "outputs": []
    },
    {
      "cell_type": "markdown",
      "source": [
        "######**Solution**"
      ],
      "metadata": {
        "id": "8It0m_PDQsbq"
      },
      "id": "8It0m_PDQsbq"
    },
    {
      "cell_type": "code",
      "execution_count": null,
      "id": "d0f90584",
      "metadata": {
        "id": "d0f90584",
        "colab": {
          "base_uri": "https://localhost:8080/"
        },
        "outputId": "df9acf8e-932d-47a1-ed75-3c3a58676c73"
      },
      "outputs": [
        {
          "output_type": "stream",
          "name": "stdout",
          "text": [
            "Alice: ─────H───@───X───────M───@───────────\n",
            "                │   │       │   │\n",
            "Bob: ───────────X───┼───────┼───X───@───M───\n",
            "                    │       │       │\n",
            "Message: ───H───────@───H───M───────@───────\n"
          ]
        }
      ],
      "source": [
        "#=========\n",
        "# STEP #1\n",
        "#=========\n",
        "# Instantiate the circuit\n",
        "circuit = cirq.Circuit()\n",
        "\n",
        "# Define three qubits\n",
        "msg = cirq.NamedQubit(\"Message\")\n",
        "alice = cirq.NamedQubit(\"Alice\")\n",
        "bob = cirq.NamedQubit(\"Bob\")\n",
        "\n",
        "# Create an entangled state between Alice and Bob's qubits\n",
        "circuit.append([cirq.H(alice), cirq.CNOT(alice, bob)])\n",
        "\n",
        "\n",
        "#=========\n",
        "# STEP #2\n",
        "#=========\n",
        "# PREPARE THE |+> STATE\n",
        "circuit.append([cirq.H(msg)])\n",
        "\n",
        "\n",
        "#=========\n",
        "# STEP #3\n",
        "#=========\n",
        "circuit.append([cirq.CNOT(msg, alice), cirq.H(msg), cirq.measure(msg, alice)])\n",
        "\n",
        "\n",
        "#=============\n",
        "# STEPS #4 - 5\n",
        "#=============\n",
        "circuit.append([cirq.CNOT(alice, bob), cirq.CZ(msg, bob), cirq.measure(bob)])\n",
        "\n",
        "# You can visualize the circuit if needed\n",
        "print(circuit)"
      ]
    },
    {
      "cell_type": "code",
      "source": [
        "\"\"\"Simulate the teleportation circuit and get the final state of Bob's qubit.\"\"\"\n",
        "# Get a simulator.\n",
        "sim = cirq.Simulator()\n",
        "\n",
        "# Simulate the teleportation circuit.\n",
        "result = sim.run(circuit, repetitions=100)\n",
        "\n",
        "_ = cirq.plot_state_histogram(result, plt.subplot(), title = 'Teleportation', xlabel = 'Qubit State', ylabel = 'Result count', tick_label=binary_labels(3))\n",
        "plt.show()"
      ],
      "metadata": {
        "colab": {
          "base_uri": "https://localhost:8080/",
          "height": 460
        },
        "id": "S8-kq7PwREo0",
        "outputId": "aa362cdf-04dc-44b2-c424-6bf686eff6ae"
      },
      "id": "S8-kq7PwREo0",
      "execution_count": null,
      "outputs": [
        {
          "output_type": "display_data",
          "data": {
            "text/plain": [
              "<Figure size 640x480 with 1 Axes>"
            ],
            "image/png": "[encoded data removed]"
          },
          "metadata": {}
        }
      ]
    },
    {
      "cell_type": "markdown",
      "id": "33b1424a",
      "metadata": {
        "id": "33b1424a"
      },
      "source": [
        "####**Problem #2.2**\n",
        "\n",
        "**Independently**, modify the code above to teleport the $|-\\rangle$ state. How do we make sure that the $|-\\rangle$ state has indeed been teleported?"
      ]
    },
    {
      "cell_type": "code",
      "source": [
        "# COMPLETE THIS CODE"
      ],
      "metadata": {
        "id": "ZHYvYZ1TSRV8"
      },
      "id": "ZHYvYZ1TSRV8",
      "execution_count": null,
      "outputs": []
    },
    {
      "cell_type": "code",
      "source": [
        "# COMPLETE THIS CODE"
      ],
      "metadata": {
        "id": "sPNCdGVNSSzz"
      },
      "id": "sPNCdGVNSSzz",
      "execution_count": null,
      "outputs": []
    },
    {
      "cell_type": "markdown",
      "source": [
        "######**Solution**"
      ],
      "metadata": {
        "id": "n3k2Q_DUQwZe"
      },
      "id": "n3k2Q_DUQwZe"
    },
    {
      "cell_type": "code",
      "source": [
        "#=========\n",
        "# STEP #1\n",
        "#=========\n",
        "# Instantiate the circuit\n",
        "circuit = cirq.Circuit()\n",
        "\n",
        "# Define three qubits\n",
        "msg = cirq.NamedQubit(\"Message\")\n",
        "alice = cirq.NamedQubit(\"Alice\")\n",
        "bob = cirq.NamedQubit(\"Bob\")\n",
        "\n",
        "# Create an entangled state between Alice and Bob's qubits\n",
        "circuit.append([cirq.H(alice), cirq.CNOT(alice, bob)])\n",
        "\n",
        "\n",
        "#=========\n",
        "# STEP #2\n",
        "#=========\n",
        "# PREPARE THE |-> STATE\n",
        "circuit.append([cirq.H(msg)])\n",
        "circuit.append(cirq.Z(msg))\n",
        "\n",
        "\n",
        "#=========\n",
        "# STEP #3\n",
        "#=========\n",
        "circuit.append([cirq.CNOT(msg, alice), cirq.H(msg), cirq.measure(msg, alice)])\n",
        "\n",
        "\n",
        "#=============\n",
        "# STEPS #4 - 5\n",
        "#=============\n",
        "circuit.append([cirq.CNOT(alice, bob), cirq.CZ(msg, bob), cirq.measure(bob)])\n",
        "\n",
        "# You can visualize the circuit if needed\n",
        "print(circuit)"
      ],
      "metadata": {
        "colab": {
          "base_uri": "https://localhost:8080/"
        },
        "id": "qnGv99wKRfw_",
        "outputId": "db9e197d-7462-4e26-b483-0f5f69bf94a3"
      },
      "id": "qnGv99wKRfw_",
      "execution_count": null,
      "outputs": [
        {
          "output_type": "stream",
          "name": "stdout",
          "text": [
            "Alice: ─────H───@───X───────M───@───────────\n",
            "                │   │       │   │\n",
            "Bob: ───────────X───┼───────┼───X───@───M───\n",
            "                    │       │       │\n",
            "Message: ───H───Z───@───H───M───────@───────\n"
          ]
        }
      ]
    },
    {
      "cell_type": "code",
      "source": [
        "\"\"\"Simulate the teleportation circuit and get the final state of Bob's qubit.\"\"\"\n",
        "# Get a simulator.\n",
        "sim = cirq.Simulator()\n",
        "\n",
        "# Simulate the teleportation circuit.\n",
        "result = sim.run(circuit, repetitions=100)\n",
        "\n",
        "_ = cirq.plot_state_histogram(result, plt.subplot(), title = 'Teleportation', xlabel = 'Qubit State', ylabel = 'Result count', tick_label=binary_labels(3))\n",
        "plt.show()"
      ],
      "metadata": {
        "colab": {
          "base_uri": "https://localhost:8080/",
          "height": 460
        },
        "id": "szC2uFpaRq6z",
        "outputId": "00e38bda-c999-46a4-a8a6-e1f67a146201"
      },
      "id": "szC2uFpaRq6z",
      "execution_count": null,
      "outputs": [
        {
          "output_type": "display_data",
          "data": {
            "text/plain": [
              "<Figure size 640x480 with 1 Axes>"
            ],
            "image/png": "[encoded data removed]"
          },
          "metadata": {}
        }
      ]
    },
    {
      "cell_type": "markdown",
      "id": "kODXtMmfCPym",
      "metadata": {
        "id": "kODXtMmfCPym"
      },
      "source": [
        "#### **Problem #2.3**\n",
        "\n",
        "**Independently**, change the order of Bob's X and Z gates in Step #5 and rerun the protocol. What happens to the results? Does the order of these gates matter?"
      ]
    },
    {
      "cell_type": "code",
      "source": [
        "# COMPLETE THIS CODE"
      ],
      "metadata": {
        "id": "xQ9OG3U7SVAV"
      },
      "id": "xQ9OG3U7SVAV",
      "execution_count": null,
      "outputs": []
    },
    {
      "cell_type": "code",
      "source": [
        "# COMPLETE THIS CODE"
      ],
      "metadata": {
        "id": "C7REt9rGSWNZ"
      },
      "id": "C7REt9rGSWNZ",
      "execution_count": null,
      "outputs": []
    },
    {
      "cell_type": "markdown",
      "source": [
        "######**Solution**"
      ],
      "metadata": {
        "id": "xaj0ERNTQxAE"
      },
      "id": "xaj0ERNTQxAE"
    },
    {
      "cell_type": "code",
      "source": [
        "#=========\n",
        "# STEP #1\n",
        "#=========\n",
        "# Instantiate the circuit\n",
        "circuit = cirq.Circuit()\n",
        "\n",
        "# Define three qubits\n",
        "msg = cirq.NamedQubit(\"Message\")\n",
        "alice = cirq.NamedQubit(\"Alice\")\n",
        "bob = cirq.NamedQubit(\"Bob\")\n",
        "\n",
        "# Create an entangled state between Alice and Bob's qubits\n",
        "circuit.append([cirq.H(alice), cirq.CNOT(alice, bob)])\n",
        "\n",
        "\n",
        "#=========\n",
        "# STEP #2\n",
        "#=========\n",
        "# PREPARE THE |-> STATE\n",
        "circuit.append([cirq.H(msg)])\n",
        "circuit.append(cirq.Z(msg))\n",
        "\n",
        "\n",
        "#=========\n",
        "# STEP #3\n",
        "#=========\n",
        "circuit.append([cirq.CNOT(msg, alice), cirq.H(msg), cirq.measure(msg, alice)])\n",
        "\n",
        "\n",
        "#=============\n",
        "# STEPS #4 - 5\n",
        "#=============\n",
        "circuit.append([cirq.CZ(msg, bob), cirq.CNOT(alice, bob), cirq.measure(bob)])\n",
        "\n",
        "# You can visualize the circuit if needed\n",
        "print(circuit)"
      ],
      "metadata": {
        "colab": {
          "base_uri": "https://localhost:8080/"
        },
        "id": "45yBqBNaRy2D",
        "outputId": "2644b7cc-ecc6-44f0-e47d-2390f8d81690"
      },
      "id": "45yBqBNaRy2D",
      "execution_count": null,
      "outputs": [
        {
          "output_type": "stream",
          "name": "stdout",
          "text": [
            "Alice: ─────H───@───X───────M───────@───────\n",
            "                │   │       │       │\n",
            "Bob: ───────────X───┼───────┼───@───X───M───\n",
            "                    │       │   │\n",
            "Message: ───H───Z───@───H───M───@───────────\n"
          ]
        }
      ]
    },
    {
      "cell_type": "code",
      "source": [
        "\"\"\"Simulate the teleportation circuit and get the final state of Bob's qubit.\"\"\"\n",
        "# Get a simulator.\n",
        "sim = cirq.Simulator()\n",
        "\n",
        "# Simulate the teleportation circuit.\n",
        "result = sim.run(circuit, repetitions=100)\n",
        "\n",
        "_ = cirq.plot_state_histogram(result, plt.subplot(), title = 'Teleportation', xlabel = 'Qubit State', ylabel = 'Result count', tick_label=binary_labels(3))\n",
        "plt.show()"
      ],
      "metadata": {
        "colab": {
          "base_uri": "https://localhost:8080/",
          "height": 460
        },
        "id": "TFnhQpIhSBwX",
        "outputId": "8db4e21d-e7e4-42c2-f12a-6edbd06dbf98"
      },
      "id": "TFnhQpIhSBwX",
      "execution_count": null,
      "outputs": [
        {
          "output_type": "display_data",
          "data": {
            "text/plain": [
              "<Figure size 640x480 with 1 Axes>"
            ],
            "image/png": "[encoded data removed]"
          },
          "metadata": {}
        }
      ]
    },
    {
      "cell_type": "markdown",
      "id": "BF1dNzrLntod",
      "metadata": {
        "id": "BF1dNzrLntod"
      },
      "source": [
        "# End of Lab\n",
        "\n",
        "---\n",
        "\n",
        "© 2024 The Coding School, All rights reserved"
      ]
    }
  ],
  "metadata": {
    "colab": {
      "provenance": [],
      "toc_visible": true,
      "include_colab_link": true
    },
    "kernelspec": {
      "display_name": "Python 3 (ipykernel)",
      "language": "python",
      "name": "python3"
    },
    "language_info": {
      "codemirror_mode": {
        "name": "ipython",
        "version": 3
      },
      "file_extension": ".py",
      "mimetype": "text/x-python",
      "name": "python",
      "nbconvert_exporter": "python",
      "pygments_lexer": "ipython3",
      "version": "3.10.8"
    }
  },
  "nbformat": 4,
  "nbformat_minor": 5
}