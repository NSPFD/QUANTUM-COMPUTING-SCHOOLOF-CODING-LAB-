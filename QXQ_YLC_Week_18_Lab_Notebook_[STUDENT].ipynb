{
  "cells": [
    {
      "cell_type": "markdown",
      "metadata": {
        "id": "view-in-github",
        "colab_type": "text"
      },
      "source": [
        "<a href=\"https://colab.research.google.com/github/NSPFD/QUANTUM-COMPUTING-SCHOOLOF-CODING-LAB-/blob/main/QXQ_YLC_Week_18_Lab_Notebook_%5BSTUDENT%5D.ipynb\" target=\"_parent\"><img src=\"https://colab.research.google.com/assets/colab-badge.svg\" alt=\"Open In Colab\"/></a>"
      ]
    },
    {
      "cell_type": "markdown",
      "metadata": {
        "id": "mbZXQ3rA3NwL"
      },
      "source": [
        "# **Lab 18: Quantum Error Correction**\n",
        "---\n",
        "\n",
        "### **Description**\n",
        "In this week's lab, we will implement a bit flip error correcting code and simulate circuits with several different noise models in Cirq.\n",
        "\n",
        "<br>\n",
        "\n",
        "### **Structure**\n",
        "**Part 1**: [Bit Flip Code](#p1)\n",
        "\n",
        "**Part 2**: [Cirq Noise Models](#p2)\n",
        "\n",
        "\n",
        "\n",
        "<br>\n",
        "\n",
        "### **Learning Objectives**\n",
        "By the end of this lab, we will:\n",
        "* Recognize how to implement a bit flip code using cirq.\n",
        "* Recognize how to test an error correcting code using cirq generally and with noise models.\n",
        "\n",
        "<br>\n",
        "\n",
        "### **Resources**\n",
        "* [Noisy Simulations Cheat Sheet\n",
        "](https://docs.google.com/document/d/1Ex2m3dp5-_z8XN8EiBv6PUptHWrTLDpsKYU662oTy4A/edit#heading=h.exb19quwqzr9)\n",
        "\n",
        "* [Cirq Cheat Sheet](https://docs.google.com/document/d/1j0vEwtS6fK-tD1DWAPry4tJdxEiq8fwMtXuYNGRhK_M)\n",
        "\n",
        "<br>\n",
        "\n",
        "**Before starting, run the code below to import all necessary functions and libraries.**\n"
      ]
    },
    {
      "cell_type": "code",
      "execution_count": null,
      "metadata": {
        "colab": {
          "background_save": true
        },
        "id": "YAvvLhRIoqYp",
        "outputId": "c3ae971f-c076-46c4-9dd9-f121388e1657"
      },
      "outputs": [
        {
          "name": "stdout",
          "output_type": "stream",
          "text": [
            "installing cirq...\n",
            "\u001b[2K     \u001b[90m━━━━━━━━━━━━━━━━━━━━━━━━━━━━━━━━━━━━━━━━\u001b[0m \u001b[32m1.8/1.8 MB\u001b[0m \u001b[31m13.7 MB/s\u001b[0m eta \u001b[36m0:00:00\u001b[0m\n",
            "\u001b[2K     \u001b[90m━━━━━━━━━━━━━━━━━━━━━━━━━━━━━━━━━━━━━━━━\u001b[0m \u001b[32m143.1/143.1 kB\u001b[0m \u001b[31m18.7 MB/s\u001b[0m eta \u001b[36m0:00:00\u001b[0m\n",
            "\u001b[2K     \u001b[90m━━━━━━━━━━━━━━━━━━━━━━━━━━━━━━━━━━━━━━━━\u001b[0m \u001b[32m598.8/598.8 kB\u001b[0m \u001b[31m21.5 MB/s\u001b[0m eta \u001b[36m0:00:00\u001b[0m\n",
            "\u001b[2K     \u001b[90m━━━━━━━━━━━━━━━━━━━━━━━━━━━━━━━━━━━━━━━━\u001b[0m \u001b[32m60.9/60.9 kB\u001b[0m \u001b[31m8.5 MB/s\u001b[0m eta \u001b[36m0:00:00\u001b[0m\n",
            "\u001b[2K     \u001b[90m━━━━━━━━━━━━━━━━━━━━━━━━━━━━━━━━━━━━━━━━\u001b[0m \u001b[32m66.2/66.2 kB\u001b[0m \u001b[31m9.3 MB/s\u001b[0m eta \u001b[36m0:00:00\u001b[0m\n",
            "\u001b[2K     \u001b[90m━━━━━━━━━━━━━━━━━━━━━━━━━━━━━━━━━━━━━━━━\u001b[0m \u001b[32m596.5/596.5 kB\u001b[0m \u001b[31m25.8 MB/s\u001b[0m eta \u001b[36m0:00:00\u001b[0m\n",
            "\u001b[2K     \u001b[90m━━━━━━━━━━━━━━━━━━━━━━━━━━━━━━━━━━━━━━━━\u001b[0m \u001b[32m223.8/223.8 kB\u001b[0m \u001b[31m25.5 MB/s\u001b[0m eta \u001b[36m0:00:00\u001b[0m\n",
            "\u001b[2K     \u001b[90m━━━━━━━━━━━━━━━━━━━━━━━━━━━━━━━━━━━━━━━━\u001b[0m \u001b[32m229.9/229.9 kB\u001b[0m \u001b[31m23.2 MB/s\u001b[0m eta \u001b[36m0:00:00\u001b[0m\n",
            "\u001b[?25h  Preparing metadata (setup.py) ... \u001b[?25l\u001b[?25hdone\n",
            "\u001b[2K     \u001b[90m━━━━━━━━━━━━━━━━━━━━━━━━━━━━━━━━━━━━━━━━\u001b[0m \u001b[32m151.7/151.7 kB\u001b[0m \u001b[31m16.8 MB/s\u001b[0m eta \u001b[36m0:00:00\u001b[0m\n",
            "\u001b[2K     \u001b[90m━━━━━━━━━━━━━━━━━━━━━━━━━━━━━━━━━━━━━━━━\u001b[0m \u001b[32m45.6/45.6 kB\u001b[0m \u001b[31m5.3 MB/s\u001b[0m eta \u001b[36m0:00:00\u001b[0m\n",
            "\u001b[?25h  Preparing metadata (setup.py) ... \u001b[?25l\u001b[?25hdone\n",
            "\u001b[2K     \u001b[90m━━━━━━━━━━━━━━━━━━━━━━━━━━━━━━━━━━━━━━━━\u001b[0m \u001b[32m1.6/1.6 MB\u001b[0m \u001b[31m29.0 MB/s\u001b[0m eta \u001b[36m0:00:00\u001b[0m\n",
            "\u001b[2K     \u001b[90m━━━━━━━━━━━━━━━━━━━━━━━━━━━━━━━━━━━━━━━━\u001b[0m \u001b[32m151.7/151.7 kB\u001b[0m \u001b[31m20.0 MB/s\u001b[0m eta \u001b[36m0:00:00\u001b[0m\n",
            "\u001b[2K     \u001b[90m━━━━━━━━━━━━━━━━━━━━━━━━━━━━━━━━━━━━━━━━\u001b[0m \u001b[32m151.7/151.7 kB\u001b[0m \u001b[31m18.6 MB/s\u001b[0m eta \u001b[36m0:00:00\u001b[0m\n",
            "\u001b[2K     \u001b[90m━━━━━━━━━━━━━━━━━━━━━━━━━━━━━━━━━━━━━━━━\u001b[0m \u001b[32m147.4/147.4 kB\u001b[0m \u001b[31m21.4 MB/s\u001b[0m eta \u001b[36m0:00:00\u001b[0m\n",
            "\u001b[2K     \u001b[90m━━━━━━━━━━━━━━━━━━━━━━━━━━━━━━━━━━━━━━━━\u001b[0m \u001b[32m147.4/147.4 kB\u001b[0m \u001b[31m19.8 MB/s\u001b[0m eta \u001b[36m0:00:00\u001b[0m\n",
            "\u001b[2K     \u001b[90m━━━━━━━━━━━━━━━━━━━━━━━━━━━━━━━━━━━━━━━━\u001b[0m \u001b[32m147.4/147.4 kB\u001b[0m \u001b[31m19.5 MB/s\u001b[0m eta \u001b[36m0:00:00\u001b[0m\n",
            "\u001b[2K     \u001b[90m━━━━━━━━━━━━━━━━━━━━━━━━━━━━━━━━━━━━━━━━\u001b[0m \u001b[32m142.7/142.7 kB\u001b[0m \u001b[31m18.7 MB/s\u001b[0m eta \u001b[36m0:00:00\u001b[0m\n",
            "\u001b[2K     \u001b[90m━━━━━━━━━━━━━━━━━━━━━━━━━━━━━━━━━━━━━━━━\u001b[0m \u001b[32m85.5/85.5 kB\u001b[0m \u001b[31m11.1 MB/s\u001b[0m eta \u001b[36m0:00:00\u001b[0m\n",
            "\u001b[2K     \u001b[90m━━━━━━━━━━━━━━━━━━━━━━━━━━━━━━━━━━━━━━━━\u001b[0m \u001b[32m85.1/85.1 kB\u001b[0m \u001b[31m10.5 MB/s\u001b[0m eta \u001b[36m0:00:00\u001b[0m\n",
            "\u001b[2K     \u001b[90m━━━━━━━━━━━━━━━━━━━━━━━━━━━━━━━━━━━━━━━━\u001b[0m \u001b[32m84.7/84.7 kB\u001b[0m \u001b[31m11.6 MB/s\u001b[0m eta \u001b[36m0:00:00\u001b[0m\n",
            "\u001b[2K     \u001b[90m━━━━━━━━━━━━━━━━━━━━━━━━━━━━━━━━━━━━━━━━\u001b[0m \u001b[32m83.6/83.6 kB\u001b[0m \u001b[31m11.4 MB/s\u001b[0m eta \u001b[36m0:00:00\u001b[0m\n",
            "\u001b[2K     \u001b[90m━━━━━━━━━━━━━━━━━━━━━━━━━━━━━━━━━━━━━━━━\u001b[0m \u001b[32m83.3/83.3 kB\u001b[0m \u001b[31m11.0 MB/s\u001b[0m eta \u001b[36m0:00:00\u001b[0m\n",
            "\u001b[2K     \u001b[90m━━━━━━━━━━━━━━━━━━━━━━━━━━━━━━━━━━━━━━━━\u001b[0m \u001b[32m83.4/83.4 kB\u001b[0m \u001b[31m7.2 MB/s\u001b[0m eta \u001b[36m0:00:00\u001b[0m\n",
            "\u001b[2K     \u001b[90m━━━━━━━━━━━━━━━━━━━━━━━━━━━━━━━━━━━━━━━━\u001b[0m \u001b[32m83.2/83.2 kB\u001b[0m \u001b[31m10.4 MB/s\u001b[0m eta \u001b[36m0:00:00\u001b[0m\n",
            "\u001b[2K     \u001b[90m━━━━━━━━━━━━━━━━━━━━━━━━━━━━━━━━━━━━━━━━\u001b[0m \u001b[32m82.5/82.5 kB\u001b[0m \u001b[31m11.4 MB/s\u001b[0m eta \u001b[36m0:00:00\u001b[0m\n",
            "\u001b[2K     \u001b[90m━━━━━━━━━━━━━━━━━━━━━━━━━━━━━━━━━━━━━━━━\u001b[0m \u001b[32m81.0/81.0 kB\u001b[0m \u001b[31m11.3 MB/s\u001b[0m eta \u001b[36m0:00:00\u001b[0m\n",
            "\u001b[2K     \u001b[90m━━━━━━━━━━━━━━━━━━━━━━━━━━━━━━━━━━━━━━━━\u001b[0m \u001b[32m81.0/81.0 kB\u001b[0m \u001b[31m10.3 MB/s\u001b[0m eta \u001b[36m0:00:00\u001b[0m\n",
            "\u001b[2K     \u001b[90m━━━━━━━━━━━━━━━━━━━━━━━━━━━━━━━━━━━━━━━━\u001b[0m \u001b[32m80.8/80.8 kB\u001b[0m \u001b[31m10.3 MB/s\u001b[0m eta \u001b[36m0:00:00\u001b[0m\n",
            "\u001b[2K     \u001b[90m━━━━━━━━━━━━━━━━━━━━━━━━━━━━━━━━━━━━━━━━\u001b[0m \u001b[32m80.7/80.7 kB\u001b[0m \u001b[31m10.4 MB/s\u001b[0m eta \u001b[36m0:00:00\u001b[0m\n",
            "\u001b[2K     \u001b[90m━━━━━━━━━━━━━━━━━━━━━━━━━━━━━━━━━━━━━━━━\u001b[0m \u001b[32m81.5/81.5 kB\u001b[0m \u001b[31m11.3 MB/s\u001b[0m eta \u001b[36m0:00:00\u001b[0m\n",
            "\u001b[2K     \u001b[90m━━━━━━━━━━━━━━━━━━━━━━━━━━━━━━━━━━━━━━━━\u001b[0m \u001b[32m90.4/90.4 kB\u001b[0m \u001b[31m11.2 MB/s\u001b[0m eta \u001b[36m0:00:00\u001b[0m\n",
            "\u001b[2K     \u001b[90m━━━━━━━━━━━━━━━━━━━━━━━━━━━━━━━━━━━━━━━━\u001b[0m \u001b[32m117.7/117.7 kB\u001b[0m \u001b[31m16.7 MB/s\u001b[0m eta \u001b[36m0:00:00\u001b[0m\n",
            "\u001b[2K     \u001b[90m━━━━━━━━━━━━━━━━━━━━━━━━━━━━━━━━━━━━━━━━\u001b[0m \u001b[32m60.6/60.6 kB\u001b[0m \u001b[31m7.8 MB/s\u001b[0m eta \u001b[36m0:00:00\u001b[0m\n",
            "\u001b[2K     \u001b[90m━━━━━━━━━━━━━━━━━━━━━━━━━━━━━━━━━━━━━━━━\u001b[0m \u001b[32m71.5/71.5 kB\u001b[0m \u001b[31m10.3 MB/s\u001b[0m eta \u001b[36m0:00:00\u001b[0m\n",
            "\u001b[2K     \u001b[90m━━━━━━━━━━━━━━━━━━━━━━━━━━━━━━━━━━━━━━━━\u001b[0m \u001b[32m3.1/3.1 MB\u001b[0m \u001b[31m33.3 MB/s\u001b[0m eta \u001b[36m0:00:00\u001b[0m\n",
            "\u001b[2K     \u001b[90m━━━━━━━━━━━━━━━━━━━━━━━━━━━━━━━━━━━━━━━━\u001b[0m \u001b[32m1.7/1.7 MB\u001b[0m \u001b[31m44.0 MB/s\u001b[0m eta \u001b[36m0:00:00\u001b[0m\n",
            "\u001b[2K     \u001b[90m━━━━━━━━━━━━━━━━━━━━━━━━━━━━━━━━━━━━━━━━\u001b[0m \u001b[32m117.8/117.8 kB\u001b[0m \u001b[31m16.2 MB/s\u001b[0m eta \u001b[36m0:00:00\u001b[0m\n",
            "\u001b[2K     \u001b[90m━━━━━━━━━━━━━━━━━━━━━━━━━━━━━━━━━━━━━━━━\u001b[0m \u001b[32m69.6/69.6 kB\u001b[0m \u001b[31m9.9 MB/s\u001b[0m eta \u001b[36m0:00:00\u001b[0m\n",
            "\u001b[2K     \u001b[90m━━━━━━━━━━━━━━━━━━━━━━━━━━━━━━━━━━━━━━━━\u001b[0m \u001b[32m526.7/526.7 kB\u001b[0m \u001b[31m44.0 MB/s\u001b[0m eta \u001b[36m0:00:00\u001b[0m\n",
            "\u001b[2K     \u001b[90m━━━━━━━━━━━━━━━━━━━━━━━━━━━━━━━━━━━━━━━━\u001b[0m \u001b[32m58.3/58.3 kB\u001b[0m \u001b[31m7.8 MB/s\u001b[0m eta \u001b[36m0:00:00\u001b[0m\n",
            "\u001b[?25h  Building wheel for lark (setup.py) ... \u001b[?25l\u001b[?25hdone\n",
            "  Building wheel for rpcq (setup.py) ... \u001b[?25l\u001b[?25hdone\n",
            "\u001b[31mERROR: pip's dependency resolver does not currently take into account all the packages that are installed. This behaviour is the source of the following dependency conflicts.\n",
            "referencing 0.33.0 requires attrs>=22.2.0, but you have attrs 21.4.0 which is incompatible.\u001b[0m\u001b[31m\n",
            "\u001b[0minstalled cirq.\n"
          ]
        }
      ],
      "source": [
        "import random\n",
        "import matplotlib.pyplot as plt\n",
        "import numpy as np\n",
        "\n",
        "def binary_labels(num_qubits):\n",
        "    return [bin(x)[2:].zfill(num_qubits) for x in range(2 ** num_qubits)]\n",
        "plt.rcParams.update({'font.size': 8})\n",
        "\n",
        "try:\n",
        "    import cirq\n",
        "except ImportError:\n",
        "    print(\"installing cirq...\")\n",
        "    !pip install cirq --quiet\n",
        "    import cirq\n",
        "    print(\"installed cirq.\")"
      ]
    },
    {
      "cell_type": "markdown",
      "metadata": {
        "id": "TrXZJK6Q6em2"
      },
      "source": [
        "<a name = \"p1\"></a>\n",
        "\n",
        "---\n",
        "## **Part 1: Bit Flip Code**\n",
        "---\n",
        "\n",
        "In this section, we will implement and explore a 3-qubit bit flip error correcting code using our 5 step process:\n",
        "1. Encoding\n",
        "2. Sending Over Noisy Channel\n",
        "3. Error Detection\n",
        "4. Error Correction\n",
        "5. Decoding"
      ]
    },
    {
      "cell_type": "markdown",
      "metadata": {
        "id": "1d283fd6"
      },
      "source": [
        "#### **Step #1: Encoding**\n",
        "\n",
        "**Together**, let's create a 3-qubit bit flip encoded quantum circuit. Specifically,\n",
        "1. Initialize a circuit with 3 qubits.\n",
        "\n",
        "2. Entangle the state of $q_0$ with the other two qubits."
      ]
    },
    {
      "cell_type": "markdown",
      "metadata": {
        "id": "H7WwpyNz-Wwu"
      },
      "source": [
        "##### **1. Initialize a circuit with 3 qubits and 1 classical bit.**"
      ]
    },
    {
      "cell_type": "code",
      "execution_count": null,
      "metadata": {
        "id": "md6fPExP7TB6"
      },
      "outputs": [],
      "source": [
        "qubits = # COMPLETE THIS CODE\n",
        "encode_circuit = # COMPLETE THIS CODE"
      ]
    },
    {
      "cell_type": "markdown",
      "metadata": {
        "id": "7bc01bdb"
      },
      "source": [
        "##### **2. Entangle the state of $q_0$ with the other two qubits.**\n",
        "\n",
        "This can be accomplished by applying two CNOT gates controlled by $q_0$ and targeting the other qubits, $q_1$ and $q_2$."
      ]
    },
    {
      "cell_type": "code",
      "execution_count": null,
      "metadata": {
        "id": "QP7A1xI77XSB"
      },
      "outputs": [],
      "source": [
        "encode_circuit.# COMPLETE THIS CODE\n",
        "encode_circuit.# COMPLETE THIS CODE\n",
        "\n",
        "encode_circuit"
      ]
    },
    {
      "cell_type": "markdown",
      "metadata": {
        "id": "f11c3700"
      },
      "source": [
        "#### **Step #2: Sending Over Noisy Channel**\n",
        "\n",
        "**Together**, let's create a new circuit to represent the noisy channel and sepcifically simulate a bit-flip error on $q_0$. **Hint**: What gate flips a qubit from $|0\\rangle$ to $|1\\rangle$?"
      ]
    },
    {
      "cell_type": "code",
      "execution_count": null,
      "metadata": {
        "id": "D8Ew2nsl7vtb"
      },
      "outputs": [],
      "source": [
        "noisy_channel_circuit = # COMPLETE THIS CODE\n",
        "\n",
        "noisy_channel_circuit.# COMPLETE THIS CODE\n",
        "\n",
        "noisy_channel_circuit"
      ]
    },
    {
      "cell_type": "markdown",
      "metadata": {
        "id": "24a5f692"
      },
      "source": [
        "#### **Step #3: Error Detection**\n",
        "\n",
        "Next, we will create a circuit to detect if there's been an error by checking the *parity* (do they agree with each other or are they different?) of $q_0$ with the other qubits using CNOT gates."
      ]
    },
    {
      "cell_type": "code",
      "execution_count": null,
      "metadata": {
        "id": "G9NY3UPL8BEo"
      },
      "outputs": [],
      "source": [
        "detection_circuit = # COMPLETE THIS CODE\n",
        "\n",
        "detection_circuit.# COMPLETE THIS CODE\n",
        "detection_circuit.# COMPLETE THIS CODE\n",
        "\n",
        "detection_circuit"
      ]
    },
    {
      "cell_type": "markdown",
      "metadata": {
        "id": "662390a3"
      },
      "source": [
        "#### **Step #4: Error Correction**\n",
        "\n",
        "We will now create a circuit to update $q_0$ if both $q_1$ and $q_2$ have detected a bit flip so that $q_0$ stores the correct logical state. Specifically, apply the Toffoli (CCX) gate controlled by $q_2$ and $q_1$, targeting $q_0$."
      ]
    },
    {
      "cell_type": "code",
      "execution_count": null,
      "metadata": {
        "id": "BoMIpnU5BTQh"
      },
      "outputs": [],
      "source": [
        "correction_circuit = # COMPLETE THIS CODE\n",
        "\n",
        "correction_circuit.# COMPLETE THIS CODE\n",
        "\n",
        "correction_circuit"
      ]
    },
    {
      "cell_type": "markdown",
      "metadata": {
        "id": "1fe6fac3"
      },
      "source": [
        "#### **Step #5: Decoding**\n",
        "\n",
        "Lastly, the logical state has been stored in $q_0$, so we will\n",
        "create a decoding circuit to measure this qubit in order to decode the final logical state."
      ]
    },
    {
      "cell_type": "code",
      "execution_count": null,
      "metadata": {
        "id": "-F8hExDYp8v7"
      },
      "outputs": [],
      "source": [
        "decode_circuit = # COMPLETE THIS CODE\n",
        "\n",
        "decode_circuit.# COMPLETE THIS CODE\n",
        "\n",
        "decode_circuit"
      ]
    },
    {
      "cell_type": "code",
      "execution_count": null,
      "metadata": {
        "id": "zxH3BSTwqGWK"
      },
      "outputs": [],
      "source": [
        "# COMPLETE THIS CODE"
      ]
    },
    {
      "cell_type": "markdown",
      "metadata": {
        "id": "3Ziwo6sDrM2Z"
      },
      "source": [
        "#### **Problem #1.1**\n",
        "\n",
        "Now, let's simulate the results of performing each of these steps by adding the circuits together and simulating 100 times (to ensure our error correction code really works).\n",
        "\n",
        "<br>\n",
        "\n",
        "**Before looking at the result, let's ask ourselves: what state should we expect to measure?**"
      ]
    },
    {
      "cell_type": "code",
      "execution_count": null,
      "metadata": {
        "id": "s7TlxbwzrX2I"
      },
      "outputs": [],
      "source": [
        "bitflip_circuit = encode_circuit + # COMPLETE THIS CODE\n",
        "\n",
        "# COMPLETE THIS CODE\n",
        "\n",
        "\n",
        "hist = cirq.plot_state_histogram(result, plt.subplot(), title = 'Qubit States', xlabel = 'States', ylabel = 'Occurrences', tick_label=binary_labels(1))\n",
        "\n",
        "plt.show()"
      ]
    },
    {
      "cell_type": "markdown",
      "metadata": {
        "id": "3b1655fb"
      },
      "source": [
        "#### **Problem #1.2**\n",
        "\n",
        "**Together**, let's use our code from above so that the logical qubit is in the $|1\\rangle$ state instead of the $|0\\rangle$ state.\n",
        "\n",
        "<br>\n",
        "\n",
        "**NOTE**: Since we have built the step encoding from logical to physical qubits already, we only need to prepare the $q_0$ in the desired state."
      ]
    },
    {
      "cell_type": "code",
      "execution_count": null,
      "metadata": {
        "id": "RIDAxiGyDvWn"
      },
      "outputs": [],
      "source": [
        "# PREPARATION\n",
        "prepare_circuit = # COMPLETE THIS CODE\n",
        "\n",
        "# SIMULATING\n",
        "bitflip_circuit = prepare_circuit + encode_circuit + noisy_channel_circuit + detection_circuit + correction_circuit + decode_circuit\n",
        "\n",
        "sim = cirq.Simulator()\n",
        "result = sim.run(bitflip_circuit, repetitions = 100)\n",
        "\n",
        "hist = cirq.plot_state_histogram(result, plt.subplot(), title = 'Qubit States', xlabel = 'States', ylabel = 'Occurrences', tick_label=binary_labels(1))\n",
        "\n",
        "plt.show()"
      ]
    },
    {
      "cell_type": "markdown",
      "metadata": {
        "id": "AwEovFMqEDRk"
      },
      "source": [
        "#### **Problem #1.3**\n",
        "\n",
        "Now modify the code to prepare the logical qubit in the $|+\\rangle$ state."
      ]
    },
    {
      "cell_type": "code",
      "execution_count": null,
      "metadata": {
        "id": "pV9uB9NYEMqx"
      },
      "outputs": [],
      "source": [
        "# COMPLETE THIS CODE"
      ]
    },
    {
      "cell_type": "markdown",
      "metadata": {
        "id": "CSZs50lxu8aG"
      },
      "source": [
        "#### **Problem #1.4**\n",
        "\n",
        "You hopefully saw a mix of 0s and 1s indicating a roughly equal superposition. However, it's hard to tell if this is $|+\\rangle$ or if it's incurred an error and is now $|-\\rangle$ or even a different superposition.\n",
        "\n",
        "<br>\n",
        "\n",
        "Add a gate to $q_0$ right before decoding to rotate it's state into the computational basis so that we can be sure if the error has been corrected. **Hint**: Assuming $q_0$ is in $|+\\rangle$ state, what gate can we apply so that it ends up as $|0\\rangle$?"
      ]
    },
    {
      "cell_type": "code",
      "execution_count": null,
      "metadata": {
        "id": "kho0NOZmu8aS"
      },
      "outputs": [],
      "source": [
        "# COMPLETE THIS CODE"
      ]
    },
    {
      "cell_type": "markdown",
      "metadata": {
        "id": "XAfJFhIjGHCc"
      },
      "source": [
        "#### **Problem #1.5**\n",
        "\n",
        "Modify the code so that the logical qubit is in the $|0\\rangle$ state, but there is a bit flip error on $q_1$ instead of $q_0$.\n",
        "\n",
        "<br>\n",
        "\n",
        "**Does our code still work?**"
      ]
    },
    {
      "cell_type": "code",
      "execution_count": null,
      "metadata": {
        "id": "xTh4eOouGQ5s"
      },
      "outputs": [],
      "source": [
        "# COMPLETE THIS CODE"
      ]
    },
    {
      "cell_type": "markdown",
      "metadata": {
        "id": "Yfi_t_FIESSx"
      },
      "source": [
        "#### **[OPTIONAL] Problem #1.6**\n",
        "\n",
        "Modify the code so that the logical qubit is in the $|0\\rangle$ state, but there is a bit flip error on *both* $q_1$ and $q_2$.\n",
        "\n",
        "<br>\n",
        "\n",
        "**Does our code still work?**"
      ]
    },
    {
      "cell_type": "code",
      "execution_count": null,
      "metadata": {
        "id": "titv0cVcEooj"
      },
      "outputs": [],
      "source": [
        "# COMPLETE THIS CODE"
      ]
    },
    {
      "cell_type": "markdown",
      "metadata": {
        "id": "ULaMUOazE9kl"
      },
      "source": [
        "### **Followup Activities**\n",
        "\n",
        "To further hone your understanding of the bit flip code, consider trying the following activities:\n",
        "* Remove parts of the circuit such as the parity checks or error correcting Toffoli to see what happens and understand their role better.\n",
        "* Alter this code to correct for an error on a different qubit.\n",
        "* Expand this 3 qubit error correcting code to a 4+ qubit error correcting code. Can these sustain more errors than the one above? Are there patterns to how many errors an *n* qubit code can handle?"
      ]
    },
    {
      "cell_type": "markdown",
      "metadata": {
        "id": "oliRhrgwxjtS"
      },
      "source": [
        "<a name = \"p2\"></a>\n",
        "\n",
        "---\n",
        "## **Part 2: Cirq Noise Models**\n",
        "---\n",
        "\n",
        "In this section, we will use cirq's [`NoiseModel`](https://quantumai.google/reference/python/cirq/NoiseModel) and [`DensityMatrixSimulator`](https://quantumai.google/reference/python/cirq/DensityMatrixSimulator) to put our bit flip code to the test.\n",
        "\n",
        "<br>\n",
        "\n",
        "**Run the code below to ensure each part of this bit flip code from above is defined.**"
      ]
    },
    {
      "cell_type": "code",
      "execution_count": null,
      "metadata": {
        "id": "SScYp20UFJvm"
      },
      "outputs": [],
      "source": [
        "# ENCODE\n",
        "qubits = cirq.NamedQubit.range(3, prefix = 'q')\n",
        "encode_circuit = cirq.Circuit()\n",
        "encode_circuit.append(cirq.CNOT(qubits[0], qubits[1]))\n",
        "encode_circuit.append(cirq.CNOT(qubits[0], qubits[2]))\n",
        "\n",
        "# PREPARATION\n",
        "prepare_circuit = cirq.Circuit()\n",
        "prepare_circuit.append(cirq.I(qubits[0]))\n",
        "\n",
        "# NOISY CHANNEL\n",
        "noisy_channel_circuit = cirq.Circuit()\n",
        "noisy_channel_circuit.append(cirq.X(qubits[1]))\n",
        "\n",
        "# DETECTION\n",
        "detection_circuit = cirq.Circuit()\n",
        "detection_circuit.append(cirq.CNOT(qubits[0], qubits[1]))\n",
        "detection_circuit.append(cirq.CNOT(qubits[0], qubits[2]))\n",
        "\n",
        "# CORRECTION\n",
        "correction_circuit = cirq.Circuit()\n",
        "correction_circuit.append(cirq.CCNOT(qubits[2], qubits[1], qubits[0]))\n",
        "\n",
        "# DECODE\n",
        "decode_circuit = cirq.Circuit()\n",
        "decode_circuit.append(cirq.measure(qubits[0]))\n",
        "\n",
        "\n",
        "# COMBINING\n",
        "bitflip_circuit = prepare_circuit + encode_circuit + noisy_channel_circuit + detection_circuit + correction_circuit + decode_circuit"
      ]
    },
    {
      "cell_type": "markdown",
      "metadata": {
        "id": "SUCwiP35x_yy"
      },
      "source": [
        "#### **Problem #2.1**\n",
        "\n",
        "**Together**, let's review how to work with these objects by creating a circuit that prepares the Bell state, $\\frac{1}{\\sqrt 2}(|00\\rangle + |11\\rangle)$, and simulates it 100 times with a 5% chance of depolarizing noise.\n",
        "\n",
        "<br>\n",
        "\n",
        "Then, let's change the amount of noise present to explore the role that this plays. Make sure to try all extreme values (i.e. 0% and 100%, along with a few between these). Apply this same approach to all the problems in this section that follow."
      ]
    },
    {
      "cell_type": "code",
      "execution_count": null,
      "metadata": {
        "id": "uzwnDiqyF60A"
      },
      "outputs": [],
      "source": [
        "# Create qubits and circuit\n",
        "qubits = cirq.NamedQubit.range(2, prefix = 'q')\n",
        "circuit = cirq.Circuit()\n",
        "\n",
        "circuit.append(cirq.H(qubits[0]))\n",
        "circuit.append(cirq.CNOT(qubits[0], qubits[1]))\n",
        "circuit.append(cirq.measure(qubits))\n",
        "\n",
        "# Define a noise model\n",
        "noise = # COMPLETE THIS LINE\n",
        "\n",
        "# Create a simulator that uses the noise model\n",
        "simulator = # COMPLETE THIS LINE\n",
        "\n",
        "# Simulate the circuit\n",
        "result = simulator.run(circuit, repetitions=1000)\n",
        "\n",
        "# Get the results\n",
        "hist = cirq.plot_state_histogram(result, plt.subplot(), title = 'Qubit States', xlabel = 'States', ylabel = 'Occurrences', tick_label=binary_labels(2))\n",
        "\n",
        "plt.show()"
      ]
    },
    {
      "cell_type": "markdown",
      "metadata": {
        "id": "LwY_5vPzzHvn"
      },
      "source": [
        "#### **Problem #2.2**\n",
        "\n",
        "**Together**, let's now simulate our bitflip circuit with everything *except the noisy channel*. In this way, we simulate a truly noisy environment where no part of our circuit is safe."
      ]
    },
    {
      "cell_type": "code",
      "execution_count": null,
      "metadata": {
        "id": "SfiWYhGm1cjp"
      },
      "outputs": [],
      "source": [
        "# Create circuit\n",
        "bitflip_circuit = prepare_circuit + encode_circuit + detection_circuit + correction_circuit + decode_circuit\n",
        "\n",
        "# COMPLETE THIS CODE"
      ]
    },
    {
      "cell_type": "markdown",
      "metadata": {
        "id": "GyW7A76P1n6D"
      },
      "source": [
        "#### **Problem #2.3**\n",
        "\n",
        "**Together**, let's now simulate our bitflip circuit the same way as above, but using `cirq.bit_flip(...)` as our noise model. In this way, we are being a bit fairer in testing the ability of our code that's only built handle bit flips and not general depolarizing noise."
      ]
    },
    {
      "cell_type": "code",
      "execution_count": null,
      "metadata": {
        "id": "dNCqIXS51n6S"
      },
      "outputs": [],
      "source": [
        "# Create circuit\n",
        "bitflip_circuit = prepare_circuit + encode_circuit + detection_circuit + correction_circuit + decode_circuit\n",
        "\n",
        "# COMPLETE THIS CODE"
      ]
    },
    {
      "cell_type": "markdown",
      "metadata": {
        "id": "fVdDqWbCHcxj"
      },
      "source": [
        "#### **Problem #2.4**\n",
        "\n",
        "**Together**, let's now simulate our bitflip circuit such that the noise model only acts on $q_0$ and can therefore be added directly into the circuit. Add it between encoding and detection to properly recreate the \"noisy channel\".\n",
        "\n",
        "<br>\n",
        "\n",
        "**NOTE**: To recreate a situation like this in a lab would require extensive engineering to ensure all the other qubits had a 0% probability of error at all times and $q_0$ could only incur errors during this one stage of the circuit."
      ]
    },
    {
      "cell_type": "code",
      "execution_count": null,
      "metadata": {
        "id": "63ZqDKgZHcxw"
      },
      "outputs": [],
      "source": [
        "# Define a noise model\n",
        "noise = cirq.bit_flip(0.05)# COMPLETE THIS CODE\n",
        "\n",
        "# Create circuit\n",
        "bitflip_circuit = # COMPLETE THIS CODE\n",
        "\n",
        "# Create a simulator that uses the noise model\n",
        "simulator = cirq.DensityMatrixSimulator()\n",
        "\n",
        "# Simulate the circuit\n",
        "result = simulator.run(bitflip_circuit, repetitions=1000)\n",
        "\n",
        "# Get the results\n",
        "hist = cirq.plot_state_histogram(result, plt.subplot(), title = 'Qubit States', xlabel = 'States', ylabel = 'Occurrences', tick_label=binary_labels(1))\n",
        "\n",
        "plt.show()"
      ]
    },
    {
      "cell_type": "markdown",
      "metadata": {
        "id": "kpOSvHVbIRZu"
      },
      "source": [
        "#### **Problem #2.5**\n",
        "\n",
        "**Independently**, simulate the bitflip circuit such that the noise model acts on all the qubits during the noisy channel stage."
      ]
    },
    {
      "cell_type": "code",
      "execution_count": null,
      "metadata": {
        "id": "awktwrkpIRZ6"
      },
      "outputs": [],
      "source": [
        "# Define a noise model\n",
        "noise = cirq.bit_flip(0.05)# COMPLETE THIS CODE\n",
        "\n",
        "# Create circuit\n",
        "bitflip_circuit = # COMPLETE THIS CODE\n",
        "\n",
        "# Create a simulator that uses the noise model\n",
        "simulator = cirq.DensityMatrixSimulator()\n",
        "\n",
        "# Simulate the circuit\n",
        "result = simulator.run(bitflip_circuit, repetitions=1000)\n",
        "\n",
        "# Get the results\n",
        "hist = cirq.plot_state_histogram(result, plt.subplot(), title = 'Qubit States', xlabel = 'States', ylabel = 'Occurrences', tick_label=binary_labels(1))\n",
        "\n",
        "plt.show()"
      ]
    },
    {
      "cell_type": "markdown",
      "metadata": {
        "id": "vGjJqrrmJHeM"
      },
      "source": [
        "#### **[OPTIONAL] Problem #2.6**\n",
        "\n",
        "Simulate the bitflip circuit in the exact same way as in the Problem above, *except* preparing the logical $|1\\rangle$ state."
      ]
    },
    {
      "cell_type": "code",
      "execution_count": null,
      "metadata": {
        "id": "35zqZ59rJHeY"
      },
      "outputs": [],
      "source": [
        "# Define a noise model\n",
        "noise = cirq.bit_flip(0.05)# COMPLETE THIS CODE\n",
        "\n",
        "# Create circuit\n",
        "prepare_circuit = cirq.Circuit()\n",
        "prepare_circuit# COMPLETE THIS CODE\n",
        "\n",
        "bitflip_circuit = # COMPLETE THIS CODE\n",
        "\n",
        "# Create a simulator that uses the noise model\n",
        "simulator = cirq.DensityMatrixSimulator()\n",
        "\n",
        "# Simulate the circuit\n",
        "result = simulator.run(bitflip_circuit, repetitions=1000)\n",
        "\n",
        "# Get the results\n",
        "hist = cirq.plot_state_histogram(result, plt.subplot(), title = 'Qubit States', xlabel = 'States', ylabel = 'Occurrences', tick_label=binary_labels(1))\n",
        "\n",
        "plt.show()"
      ]
    },
    {
      "cell_type": "markdown",
      "metadata": {
        "id": "VzYUIRBwKhaI"
      },
      "source": [
        "#### **[OPTIONAL] Problem #2.7**\n",
        "\n",
        "Now, simulate the bitflip circuit with just phase flip noise on $q_0$ instead. Prepare the logical $|+\\rangle$ state to start, but explore preparing other states if you have time.\n",
        "\n",
        "<br>\n",
        "\n",
        "**NOTE**: Recall from Problems #1.3 - 1.4 that we should rotate the qubit into the computational basis right before decoding (measuring) to ensure we can interpret our results. This can be accomplished by applying an H gate to $q_0$."
      ]
    },
    {
      "cell_type": "code",
      "execution_count": null,
      "metadata": {
        "id": "voBegdmcKhaT"
      },
      "outputs": [],
      "source": [
        "# Define a noise model\n",
        "noise = # COMPLETE THIS CODE\n",
        "\n",
        "# Create circuit\n",
        "prepare_circuit = cirq.Circuit()\n",
        "prepare_circuit# COMPLETE THIS CODE\n",
        "\n",
        "bitflip_circuit = # COMPLETE THIS CODE\n",
        "\n",
        "# Create a simulator that uses the noise model\n",
        "simulator = cirq.DensityMatrixSimulator()\n",
        "\n",
        "# Simulate the circuit\n",
        "result = simulator.run(bitflip_circuit, repetitions=1000)\n",
        "\n",
        "# Get the results\n",
        "hist = cirq.plot_state_histogram(result, plt.subplot(), title = 'Qubit States', xlabel = 'States', ylabel = 'Occurrences', tick_label=binary_labels(1))\n",
        "\n",
        "plt.show()"
      ]
    },
    {
      "cell_type": "markdown",
      "metadata": {
        "id": "7dzC09dLlEhm"
      },
      "source": [
        "#End of notebook\n",
        "---\n",
        "© 2024 The Coding School, All rights reserved"
      ]
    }
  ],
  "metadata": {
    "colab": {
      "toc_visible": true,
      "provenance": [],
      "include_colab_link": true
    },
    "kernelspec": {
      "display_name": "Python 3",
      "name": "python3"
    },
    "language_info": {
      "name": "python"
    }
  },
  "nbformat": 4,
  "nbformat_minor": 0
}