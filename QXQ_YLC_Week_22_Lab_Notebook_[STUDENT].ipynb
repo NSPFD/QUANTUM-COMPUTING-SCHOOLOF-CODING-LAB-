{
  "cells": [
    {
      "cell_type": "markdown",
      "metadata": {
        "id": "view-in-github",
        "colab_type": "text"
      },
      "source": [
        "<a href=\"https://colab.research.google.com/github/NSPFD/QUANTUM-COMPUTING-SCHOOLOF-CODING-LAB-/blob/main/QXQ_YLC_Week_22_Lab_Notebook_%5BSTUDENT%5D.ipynb\" target=\"_parent\"><img src=\"https://colab.research.google.com/assets/colab-badge.svg\" alt=\"Open In Colab\"/></a>"
      ]
    },
    {
      "cell_type": "markdown",
      "metadata": {
        "id": "mbZXQ3rA3NwL"
      },
      "source": [
        "# **Lab 22: Semester II Review**\n",
        "---\n",
        "\n",
        "### **Description**\n",
        "In this lab, you will review what you have learned this past semester. Feel free to look back to labs 12,16 - 19, and 21 for extra support.\n",
        "\n",
        "\n",
        "\n",
        "<br>\n",
        "\n",
        "### **Structure**\n",
        "**Part 1**: [Quantum Teleportation](#p1)\n",
        "\n",
        "**Part 2**: [Grover's Search](#p2)\n",
        "\n",
        "**Part 3**: [Noisy Simulations and Benchmarking](#p3)\n",
        "\n",
        "**Part 4**: [Error Correction](#p4)\n",
        "\n",
        "**Part 5**: [Near-Term Algorithms](#p5)\n",
        "\n",
        "**Part 6**: [Quantum Networking](#p6)\n",
        "\n",
        "\n",
        "<br>\n",
        "\n",
        "### **Resources**\n",
        "* [Cirq Basics Cheat Sheet](https://docs.google.com/document/d/1j0vEwtS6fK-tD1DWAPry4tJdxEiq8fwMtXuYNGRhK_M/edit?usp=drive_link)\n",
        "\n",
        "* [Noisy Simulations Cheat Sheet](https://docs.google.com/document/d/1Ex2m3dp5-_z8XN8EiBv6PUptHWrTLDpsKYU662oTy4A/edit?usp=drive_link)\n",
        "\n",
        "* [Variational Algorithms Cheat Sheet](https://docs.google.com/document/d/1h0FNl7akmvbfPqdcioyR3DwrTQMr5Jd5xqQccqSu6iM/edit?usp=drive_link)\n",
        "\n",
        "\n",
        "\n",
        "* Cirq Review and Quantum Teleportation Notebook Solutions: [Lab](https://colab.research.google.com/drive/1GcaOb0kf-pi01TjSDTikKXjSndLrIVi1?usp=drive_link) and [Homework](https://colab.research.google.com/drive/1YO-jJ8z8aoVLkfezf02oKp4DtuhjuNeS?usp=drive_link).\n",
        "\n",
        "\n",
        "\n",
        "* Grover's Algorithm Lab Notebook Solutions: [Lab](https://colab.research.google.com/drive/1AdT6cn-oKfYsHTofLL8WXDot78wWXneL?usp=drive_link) and no homework notebook.\n",
        "\n",
        "\n",
        "\n",
        "* Noisy Simulations and Benchmarking Notebook Solutions: [Lab](https://colab.research.google.com/drive/1UgGyJ2Rv-6UEWSzz13Y5lVBE8eeESu0b) and [Homework](https://colab.research.google.com/drive/1vlmH7RkIfxPY_c0gLQVgVNQplNUb3-ux).\n",
        "\n",
        "\n",
        "\n",
        "* Quantum Error Correction Notebook Solutions: [Lab](https://colab.research.google.com/drive/1EM0QumaJJe6ycWa-jiV7azi1jEltCinr) and [Homework](https://colab.research.google.com/drive/1WKWNkmwtnr1AMI7P7JBF_ckXV_OHXZFl).\n",
        "\n",
        "\n",
        "\n",
        "* Near-Term Algorithms Notebook Solutions: [Lab](https://colab.research.google.com/drive/1rPubD6v3ywExabLbcbdDz9ZiY3OF4SeC?usp=drive_link) and [Homework](https://colab.research.google.com/drive/1Nh309dr2QLTmU8tVnlhrkTInBhVojRks?usp=drive_link).\n",
        "\n",
        "\n",
        "\n",
        "* Quantum Networking Notebook Solutions: [Lab](https://colab.research.google.com/drive/1Ht3PHJsasWxbybWIRDzxeGmAQMZgAk94?usp=drive_link) and no homework notebook.\n",
        "\n",
        "\n",
        "\n",
        "\n",
        "<br>\n",
        "\n",
        "**Before starting, run the code below to import all necessary functions and libraries.**\n"
      ]
    },
    {
      "cell_type": "code",
      "execution_count": null,
      "metadata": {
        "colab": {
          "background_save": true,
          "base_uri": "https://localhost:8080/",
          "height": 393
        },
        "id": "536b5e25-05bc-4923-8636-595d63809535",
        "outputId": "84024b7c-4911-46ce-de9a-deebca310363"
      },
      "outputs": [
        {
          "name": "stdout",
          "output_type": "stream",
          "text": [
            "installing cirq...\n",
            "\u001b[2K     \u001b[90m━━━━━━━━━━━━━━━━━━━━━━━━━━━━━━━━━━━━━━━━\u001b[0m \u001b[32m1.8/1.8 MB\u001b[0m \u001b[31m11.3 MB/s\u001b[0m eta \u001b[36m0:00:00\u001b[0m\n",
            "\u001b[2K     \u001b[90m━━━━━━━━━━━━━━━━━━━━━━━━━━━━━━━━━━━━━━━━\u001b[0m \u001b[32m143.1/143.1 kB\u001b[0m \u001b[31m13.6 MB/s\u001b[0m eta \u001b[36m0:00:00\u001b[0m\n",
            "\u001b[2K     \u001b[90m━━━━━━━━━━━━━━━━━━━━━━━━━━━━━━━━━━━━━━━━\u001b[0m \u001b[32m598.8/598.8 kB\u001b[0m \u001b[31m22.5 MB/s\u001b[0m eta \u001b[36m0:00:00\u001b[0m\n",
            "\u001b[2K     \u001b[90m━━━━━━━━━━━━━━━━━━━━━━━━━━━━━━━━━━━━━━━━\u001b[0m \u001b[32m60.9/60.9 kB\u001b[0m \u001b[31m6.7 MB/s\u001b[0m eta \u001b[36m0:00:00\u001b[0m\n",
            "\u001b[2K     \u001b[90m━━━━━━━━━━━━━━━━━━━━━━━━━━━━━━━━━━━━━━━━\u001b[0m \u001b[32m66.2/66.2 kB\u001b[0m \u001b[31m7.5 MB/s\u001b[0m eta \u001b[36m0:00:00\u001b[0m\n",
            "\u001b[2K     \u001b[90m━━━━━━━━━━━━━━━━━━━━━━━━━━━━━━━━━━━━━━━━\u001b[0m \u001b[32m596.5/596.5 kB\u001b[0m \u001b[31m24.5 MB/s\u001b[0m eta \u001b[36m0:00:00\u001b[0m\n",
            "\u001b[2K     \u001b[90m━━━━━━━━━━━━━━━━━━━━━━━━━━━━━━━━━━━━━━━━\u001b[0m \u001b[32m223.8/223.8 kB\u001b[0m \u001b[31m18.8 MB/s\u001b[0m eta \u001b[36m0:00:00\u001b[0m\n",
            "\u001b[2K     \u001b[90m━━━━━━━━━━━━━━━━━━━━━━━━━━━━━━━━━━━━━━━━\u001b[0m \u001b[32m229.9/229.9 kB\u001b[0m \u001b[31m20.2 MB/s\u001b[0m eta \u001b[36m0:00:00\u001b[0m\n",
            "\u001b[?25h  Preparing metadata (setup.py) ... \u001b[?25l\u001b[?25hdone\n",
            "\u001b[2K     \u001b[90m━━━━━━━━━━━━━━━━━━━━━━━━━━━━━━━━━━━━━━━━\u001b[0m \u001b[32m151.7/151.7 kB\u001b[0m \u001b[31m15.9 MB/s\u001b[0m eta \u001b[36m0:00:00\u001b[0m\n",
            "\u001b[2K     \u001b[90m━━━━━━━━━━━━━━━━━━━━━━━━━━━━━━━━━━━━━━━━\u001b[0m \u001b[32m45.6/45.6 kB\u001b[0m \u001b[31m4.8 MB/s\u001b[0m eta \u001b[36m0:00:00\u001b[0m\n",
            "\u001b[?25h  Preparing metadata (setup.py) ... \u001b[?25l\u001b[?25hdone\n",
            "\u001b[2K     \u001b[90m━━━━━━━━━━━━━━━━━━━━━━━━━━━━━━━━━━━━━━━━\u001b[0m \u001b[32m1.6/1.6 MB\u001b[0m \u001b[31m29.1 MB/s\u001b[0m eta \u001b[36m0:00:00\u001b[0m\n",
            "\u001b[2K     \u001b[90m━━━━━━━━━━━━━━━━━━━━━━━━━━━━━━━━━━━━━━━━\u001b[0m \u001b[32m151.7/151.7 kB\u001b[0m \u001b[31m17.4 MB/s\u001b[0m eta \u001b[36m0:00:00\u001b[0m\n",
            "\u001b[2K     \u001b[90m━━━━━━━━━━━━━━━━━━━━━━━━━━━━━━━━━━━━━━━━\u001b[0m \u001b[32m151.7/151.7 kB\u001b[0m \u001b[31m18.3 MB/s\u001b[0m eta \u001b[36m0:00:00\u001b[0m\n",
            "\u001b[2K     \u001b[90m━━━━━━━━━━━━━━━━━━━━━━━━━━━━━━━━━━━━━━━━\u001b[0m \u001b[32m147.4/147.4 kB\u001b[0m \u001b[31m17.4 MB/s\u001b[0m eta \u001b[36m0:00:00\u001b[0m\n",
            "\u001b[2K     \u001b[90m━━━━━━━━━━━━━━━━━━━━━━━━━━━━━━━━━━━━━━━━\u001b[0m \u001b[32m147.4/147.4 kB\u001b[0m \u001b[31m16.5 MB/s\u001b[0m eta \u001b[36m0:00:00\u001b[0m\n",
            "\u001b[2K     \u001b[90m━━━━━━━━━━━━━━━━━━━━━━━━━━━━━━━━━━━━━━━━\u001b[0m \u001b[32m147.4/147.4 kB\u001b[0m \u001b[31m15.3 MB/s\u001b[0m eta \u001b[36m0:00:00\u001b[0m\n",
            "\u001b[2K     \u001b[90m━━━━━━━━━━━━━━━━━━━━━━━━━━━━━━━━━━━━━━━━\u001b[0m \u001b[32m142.7/142.7 kB\u001b[0m \u001b[31m17.1 MB/s\u001b[0m eta \u001b[36m0:00:00\u001b[0m\n",
            "\u001b[2K     \u001b[90m━━━━━━━━━━━━━━━━━━━━━━━━━━━━━━━━━━━━━━━━\u001b[0m \u001b[32m85.5/85.5 kB\u001b[0m \u001b[31m8.6 MB/s\u001b[0m eta \u001b[36m0:00:00\u001b[0m\n",
            "\u001b[2K     \u001b[90m━━━━━━━━━━━━━━━━━━━━━━━━━━━━━━━━━━━━━━━━\u001b[0m \u001b[32m85.1/85.1 kB\u001b[0m \u001b[31m9.8 MB/s\u001b[0m eta \u001b[36m0:00:00\u001b[0m\n",
            "\u001b[2K     \u001b[90m━━━━━━━━━━━━━━━━━━━━━━━━━━━━━━━━━━━━━━━━\u001b[0m \u001b[32m84.7/84.7 kB\u001b[0m \u001b[31m10.4 MB/s\u001b[0m eta \u001b[36m0:00:00\u001b[0m\n",
            "\u001b[2K     \u001b[90m━━━━━━━━━━━━━━━━━━━━━━━━━━━━━━━━━━━━━━━━\u001b[0m \u001b[32m83.6/83.6 kB\u001b[0m \u001b[31m7.3 MB/s\u001b[0m eta \u001b[36m0:00:00\u001b[0m\n",
            "\u001b[2K     \u001b[90m━━━━━━━━━━━━━━━━━━━━━━━━━━━━━━━━━━━━━━━━\u001b[0m \u001b[32m83.3/83.3 kB\u001b[0m \u001b[31m9.9 MB/s\u001b[0m eta \u001b[36m0:00:00\u001b[0m\n",
            "\u001b[2K     \u001b[90m━━━━━━━━━━━━━━━━━━━━━━━━━━━━━━━━━━━━━━━━\u001b[0m \u001b[32m83.4/83.4 kB\u001b[0m \u001b[31m9.2 MB/s\u001b[0m eta \u001b[36m0:00:00\u001b[0m\n",
            "\u001b[2K     \u001b[90m━━━━━━━━━━━━━━━━━━━━━━━━━━━━━━━━━━━━━━━━\u001b[0m \u001b[32m83.2/83.2 kB\u001b[0m \u001b[31m9.8 MB/s\u001b[0m eta \u001b[36m0:00:00\u001b[0m\n",
            "\u001b[2K     \u001b[90m━━━━━━━━━━━━━━━━━━━━━━━━━━━━━━━━━━━━━━━━\u001b[0m \u001b[32m82.5/82.5 kB\u001b[0m \u001b[31m9.8 MB/s\u001b[0m eta \u001b[36m0:00:00\u001b[0m\n",
            "\u001b[2K     \u001b[90m━━━━━━━━━━━━━━━━━━━━━━━━━━━━━━━━━━━━━━━━\u001b[0m \u001b[32m81.0/81.0 kB\u001b[0m \u001b[31m9.9 MB/s\u001b[0m eta \u001b[36m0:00:00\u001b[0m\n",
            "\u001b[2K     \u001b[90m━━━━━━━━━━━━━━━━━━━━━━━━━━━━━━━━━━━━━━━━\u001b[0m \u001b[32m81.0/81.0 kB\u001b[0m \u001b[31m9.7 MB/s\u001b[0m eta \u001b[36m0:00:00\u001b[0m\n",
            "\u001b[2K     \u001b[90m━━━━━━━━━━━━━━━━━━━━━━━━━━━━━━━━━━━━━━━━\u001b[0m \u001b[32m80.8/80.8 kB\u001b[0m \u001b[31m8.8 MB/s\u001b[0m eta \u001b[36m0:00:00\u001b[0m\n",
            "\u001b[2K     \u001b[90m━━━━━━━━━━━━━━━━━━━━━━━━━━━━━━━━━━━━━━━━\u001b[0m \u001b[32m80.7/80.7 kB\u001b[0m \u001b[31m8.7 MB/s\u001b[0m eta \u001b[36m0:00:00\u001b[0m\n",
            "\u001b[2K     \u001b[90m━━━━━━━━━━━━━━━━━━━━━━━━━━━━━━━━━━━━━━━━\u001b[0m \u001b[32m81.5/81.5 kB\u001b[0m \u001b[31m7.6 MB/s\u001b[0m eta \u001b[36m0:00:00\u001b[0m\n",
            "\u001b[2K     \u001b[90m━━━━━━━━━━━━━━━━━━━━━━━━━━━━━━━━━━━━━━━━\u001b[0m \u001b[32m90.4/90.4 kB\u001b[0m \u001b[31m7.3 MB/s\u001b[0m eta \u001b[36m0:00:00\u001b[0m\n",
            "\u001b[2K     \u001b[90m━━━━━━━━━━━━━━━━━━━━━━━━━━━━━━━━━━━━━━━━\u001b[0m \u001b[32m117.7/117.7 kB\u001b[0m \u001b[31m12.8 MB/s\u001b[0m eta \u001b[36m0:00:00\u001b[0m\n",
            "\u001b[2K     \u001b[90m━━━━━━━━━━━━━━━━━━━━━━━━━━━━━━━━━━━━━━━━\u001b[0m \u001b[32m60.6/60.6 kB\u001b[0m \u001b[31m7.4 MB/s\u001b[0m eta \u001b[36m0:00:00\u001b[0m\n",
            "\u001b[2K     \u001b[90m━━━━━━━━━━━━━━━━━━━━━━━━━━━━━━━━━━━━━━━━\u001b[0m \u001b[32m71.5/71.5 kB\u001b[0m \u001b[31m6.0 MB/s\u001b[0m eta \u001b[36m0:00:00\u001b[0m\n",
            "\u001b[2K     \u001b[90m━━━━━━━━━━━━━━━━━━━━━━━━━━━━━━━━━━━━━━━━\u001b[0m \u001b[32m3.1/3.1 MB\u001b[0m \u001b[31m31.7 MB/s\u001b[0m eta \u001b[36m0:00:00\u001b[0m\n",
            "\u001b[2K     \u001b[90m━━━━━━━━━━━━━━━━━━━━━━━━━━━━━━━━━━━━━━━━\u001b[0m \u001b[32m1.7/1.7 MB\u001b[0m \u001b[31m45.2 MB/s\u001b[0m eta \u001b[36m0:00:00\u001b[0m\n",
            "\u001b[2K     \u001b[90m━━━━━━━━━━━━━━━━━━━━━━━━━━━━━━━━━━━━━━━━\u001b[0m \u001b[32m117.8/117.8 kB\u001b[0m \u001b[31m11.9 MB/s\u001b[0m eta \u001b[36m0:00:00\u001b[0m\n",
            "\u001b[2K     \u001b[90m━━━━━━━━━━━━━━━━━━━━━━━━━━━━━━━━━━━━━━━━\u001b[0m \u001b[32m69.6/69.6 kB\u001b[0m \u001b[31m7.4 MB/s\u001b[0m eta \u001b[36m0:00:00\u001b[0m\n",
            "\u001b[2K     \u001b[90m━━━━━━━━━━━━━━━━━━━━━━━━━━━━━━━━━━━━━━━━\u001b[0m \u001b[32m526.7/526.7 kB\u001b[0m \u001b[31m37.3 MB/s\u001b[0m eta \u001b[36m0:00:00\u001b[0m\n",
            "\u001b[2K     \u001b[90m━━━━━━━━━━━━━━━━━━━━━━━━━━━━━━━━━━━━━━━━\u001b[0m \u001b[32m58.3/58.3 kB\u001b[0m \u001b[31m6.5 MB/s\u001b[0m eta \u001b[36m0:00:00\u001b[0m\n",
            "\u001b[?25h  Building wheel for lark (setup.py) ... \u001b[?25l\u001b[?25hdone\n",
            "  Building wheel for rpcq (setup.py) ... \u001b[?25l\u001b[?25hdone\n",
            "\u001b[31mERROR: pip's dependency resolver does not currently take into account all the packages that are installed. This behaviour is the source of the following dependency conflicts.\n",
            "referencing 0.34.0 requires attrs>=22.2.0, but you have attrs 21.4.0 which is incompatible.\u001b[0m\u001b[31m\n",
            "\u001b[0minstalled cirq.\n",
            "Libraries Imported Successfully!\n"
          ]
        }
      ],
      "source": [
        "import random\n",
        "import matplotlib.pyplot as plt\n",
        "import numpy as np\n",
        "import math\n",
        "import scipy\n",
        "\n",
        "import random\n",
        "import matplotlib.pyplot as plt\n",
        "import numpy as np\n",
        "\n",
        "\n",
        "from math import radians, degrees\n",
        "from scipy.optimize import minimize\n",
        "\n",
        "def binary_labels(num_qubits):\n",
        "    return [bin(x)[2:].zfill(num_qubits) for x in range(2 ** num_qubits)]\n",
        "plt.rcParams.update({'font.size': 8})\n",
        "try:\n",
        "    import cirq\n",
        "except ImportError:\n",
        "    print(\"installing cirq...\")\n",
        "    !pip install cirq --quiet\n",
        "    import cirq\n",
        "    print(\"installed cirq.\")\n",
        "\n",
        "import warnings\n",
        "warnings.filterwarnings(\"ignore\")\n",
        "\n",
        "from cirq_web import bloch_sphere\n",
        "\n",
        "print(\"Libraries Imported Successfully!\")"
      ]
    },
    {
      "cell_type": "markdown",
      "metadata": {
        "id": "idga37M2FsMR"
      },
      "source": [
        "<a name=\"p1\"></a>\n",
        "\n",
        "---\n",
        "## **Part 1: Quantum Teleportation**\n",
        "---"
      ]
    },
    {
      "cell_type": "markdown",
      "metadata": {
        "id": "aeHLnmAH8s0C"
      },
      "source": [
        "#### **Problem 1.1- Complete the teleportation protocol**"
      ]
    },
    {
      "cell_type": "code",
      "execution_count": null,
      "metadata": {
        "id": "IiTSpgwf7j2F"
      },
      "outputs": [],
      "source": [
        "#=========\n",
        "# STEP #1\n",
        "#=========\n",
        "# Instantiate the circuit\n",
        "circuit = # Complete line\n",
        "\n",
        "# Define three qubits\n",
        "msg = # Complete line\n",
        "alice = # Complete line\n",
        "bob = # Complete line\n",
        "\n",
        "# Create an entangled state between Alice and Bob's qubits\n",
        "circuit. # Complete line\n",
        "\n",
        "#=========\n",
        "# STEP #2\n",
        "#=========\n",
        "# PREPARE THE |1> STATE\n",
        "circuit. # Complete line\n",
        "\n",
        "#=========\n",
        "# STEP #3\n",
        "#=========\n",
        "circuit. # Complete line\n",
        "\n",
        "#=============\n",
        "# STEPS #4 - 5\n",
        "#=============\n",
        "circuit. # Complete line\n",
        "\n",
        "# You can visualize the circuit if needed\n",
        "print(circuit)"
      ]
    },
    {
      "cell_type": "markdown",
      "metadata": {
        "id": "nSNEEkpC8oLY"
      },
      "source": [
        "#### **Problem 1.2- Simulate the teleportation circuit and get the final state of Bob's qubit.**"
      ]
    },
    {
      "cell_type": "code",
      "execution_count": null,
      "metadata": {
        "id": "L5nf5Rw676I2"
      },
      "outputs": [],
      "source": [
        "\"\"\"Simulate the teleportation circuit and get the final state of Bob's qubit.\"\"\"\n",
        "# Get a simulator.\n",
        "sim = # Complete line\n",
        "\n",
        "# Simulate the teleportation circuit.\n",
        "result = sim.run(# Complete line\n",
        "\n",
        "_ = cirq.plot_state_histogram(result, plt.subplot(), title = 'Teleportation', xlabel = 'Qubit State', ylabel = 'Result count', tick_label=binary_labels(3))\n",
        "plt.show()\n"
      ]
    },
    {
      "cell_type": "markdown",
      "metadata": {
        "id": "Al3kvjFlGqxQ"
      },
      "source": [
        "#### **Problem 1.3- Teleport a different quantum state than the $|1\\rangle$ state and simulate it.**"
      ]
    },
    {
      "cell_type": "code",
      "execution_count": null,
      "metadata": {
        "id": "qWLB81dkHR4F"
      },
      "outputs": [],
      "source": []
    },
    {
      "cell_type": "markdown",
      "metadata": {
        "id": "0S2fXD2TBOVh"
      },
      "source": [
        "#### **Problem 1.4- If you look at the measurement results of teleporting a $|-\\rangle$ state versus teleporting a $|+\\rangle$ state you would not be able to tell the difference between which state was sent. Why?**"
      ]
    },
    {
      "cell_type": "markdown",
      "metadata": {
        "id": "q6UjA3z8ECwR"
      },
      "source": []
    },
    {
      "cell_type": "markdown",
      "metadata": {
        "id": "VhXcsQ44KHmR"
      },
      "source": [
        "#### **Problem 1.5- If we can't analyze the histogram to check our work how could we make sure that the  |+⟩ or |->  state has been teleported?**"
      ]
    },
    {
      "cell_type": "markdown",
      "metadata": {
        "id": "jbrqOh-kMTZI"
      },
      "source": []
    },
    {
      "cell_type": "markdown",
      "metadata": {
        "id": "sYF4iXKvVeEX"
      },
      "source": [
        "<a name=\"p1\"></a>\n",
        "\n",
        "---\n",
        "## **Part 2: Grover's Search**\n",
        "---"
      ]
    },
    {
      "cell_type": "markdown",
      "metadata": {
        "id": "cuOUZoKs9HV3"
      },
      "source": [
        "#### **Problem 2.1- What are the 5 steps to complete Grovers algorithm?**"
      ]
    },
    {
      "cell_type": "markdown",
      "metadata": {
        "id": "JNozy_jt4mIb"
      },
      "source": []
    },
    {
      "cell_type": "markdown",
      "metadata": {
        "id": "Bod35wMm9Kih"
      },
      "source": [
        "#### **Problem 2.2- Based on your understanding of Grovers, and what we reviewed in lab, organize the boxes of code below in the right order that match's the steps in Problem 1.**"
      ]
    },
    {
      "cell_type": "code",
      "execution_count": null,
      "metadata": {
        "id": "SP6HqAyvwUSt"
      },
      "outputs": [],
      "source": [
        "def get_marked_bitstring(correct_choice, nqubits):\n",
        "    binary_representation = list(bin(correct_choice)[2:])\n",
        "    marked_bitstring = [eval(i) for i in binary_representation]\n",
        "    desired_length = nqubits\n",
        "    marked_bitstring = [0] * (desired_length - len(marked_bitstring)) + marked_bitstring\n",
        "    return marked_bitstring\n",
        "\n",
        "marked_bitstring = get_marked_bitstring(correct_choice, nqubits)\n",
        "print(marked_bitstring)\n",
        "\n",
        "oracle = make_oracle(qubits, ancilla, marked_bitstring)\n",
        "# Embed the oracle into a quantum circuit implementing Grover's algorithm.\n",
        "circuit = grover_iteration(qubits, ancilla, marked_bitstring, 2)\n",
        "\n",
        "print(\"Circuit for Grover's algorithm:\")\n",
        "print(circuit)"
      ]
    },
    {
      "cell_type": "code",
      "execution_count": null,
      "metadata": {
        "id": "H5ovt0EkwPYf"
      },
      "outputs": [],
      "source": [
        "def grover_iteration(qubits, ancilla, marked_bitstring, reps=1):\n",
        "    \"\"\"Performs one round of the Grover iteration.\"\"\"\n",
        "    circuit = cirq.Circuit()\n",
        "\n",
        "    # Create an equal superposition over input qubits.\n",
        "    circuit.append(cirq.H.on_each(*qubits))\n",
        "\n",
        "    # Put the output qubit in the |-⟩ state.\n",
        "    circuit.append([cirq.X(ancilla), cirq.H(ancilla)])\n",
        "    for r in range(reps):\n",
        "        # Query the oracle.\n",
        "        # circuit.append(oracle)\n",
        "        for (q, bit) in zip(qubits, marked_bitstring):\n",
        "            if not bit:\n",
        "                circuit.append([cirq.X(q)])\n",
        "        # Do the Toffoli. change this to MCX for a generalized oracle\n",
        "        #yield (cirq.TOFFOLI(qubits[0], qubits[1], ancilla))\n",
        "        # controls = len(qubits) -1\n",
        "        controls = len(qubits)\n",
        "        mcx_gate = cirq.ControlledGate(sub_gate=cirq.X, num_controls=controls)\n",
        "        circuit.append([mcx_gate(*qubits, ancilla)])\n",
        "\n",
        "        # Negate zero bits, if necessary.\n",
        "        for (q, bit) in zip(qubits, marked_bitstring):\n",
        "            if not bit:\n",
        "                circuit.append([cirq.X(q)])\n",
        "\n",
        "        # Construct Grover operator.\n",
        "        circuit.append(cirq.H.on_each(*qubits))\n",
        "        circuit.append(cirq.X.on_each(*qubits))\n",
        "\n",
        "        # circuit.append(cirq.H.on(qubits[-1]))\n",
        "        controls = len(qubits)\n",
        "        mcx_gate = cirq.ControlledGate(sub_gate=cirq.X, num_controls=controls)\n",
        "        mcx_op = mcx_gate(*qubits, ancilla)\n",
        "        circuit.append(mcx_op)\n",
        "        # circuit.append(cirq.H.on(qubits[-1]))\n",
        "\n",
        "        circuit.append(cirq.X.on_each(*qubits))\n",
        "        circuit.append(cirq.H.on_each(*qubits))\n",
        "\n",
        "    # Measure the input register.\n",
        "    circuit.append(cirq.measure(*qubits, key=\"result\"))\n",
        "\n",
        "    return circuit\n",
        "\n",
        "# Get qubit registers.\n",
        "qubits = cirq.LineQubit.range(nqubits)\n",
        "ancilla = cirq.NamedQubit(\"Ancilla\")\n"
      ]
    },
    {
      "cell_type": "code",
      "execution_count": null,
      "metadata": {
        "id": "zSMVW4ScwFBG"
      },
      "outputs": [],
      "source": [
        "number_choices = 8 # Total number of choices - please ensure that this number is a power of 2.\n",
        "correct_choice = 2 # Choice number you are searching for\n",
        "\n",
        "\"Get qubits to use in the circuit for Grover's algorithm.\"\n",
        "nqubits = 2\n",
        "\n",
        "def generate_binary_strings(number_choices):\n",
        "    n = int(math.log(number_choices,2))\n",
        "    binary_strings = []\n",
        "    for i in range(2**n):\n",
        "        binary_string = bin(i)[2:].zfill(n)\n",
        "        binary_strings.append(binary_string)\n",
        "    return binary_strings\n",
        "\n",
        "ls = generate_binary_strings(number_choices)\n",
        "ls"
      ]
    },
    {
      "cell_type": "code",
      "execution_count": null,
      "metadata": {
        "id": "BDJt7pVTwHtM"
      },
      "outputs": [],
      "source": [
        "def make_oracle(qubits, ancilla, marked_bitstring):\n",
        "    \"\"\"Implements the function {f(x) = 1 if x == x', f(x) = 0 if x != x'}.\"\"\"\n",
        "    # For x' = (1, 1), the oracle is just a Toffoli gate.\n",
        "    # For a general x', we negate the zero bits and implement a Toffoli.\n",
        "\n",
        "    # Negate zero bits, if necessary.\n",
        "    for (q, bit) in zip(qubits, marked_bitstring):\n",
        "        if not bit:\n",
        "            yield (cirq.X(q))\n",
        "    # Do the Toffoli. change this to MCX for a generalized oracle\n",
        "    #yield (cirq.TOFFOLI(qubits[0], qubits[1], ancilla))\n",
        "    # controls = len(qubits) -1\n",
        "    controls = len(qubits)\n",
        "    mcx_gate = cirq.ControlledGate(sub_gate=cirq.X, num_controls=controls)\n",
        "    yield (mcx_gate(*qubits, ancilla))\n",
        "\n",
        "    # Negate zero bits, if necessary.\n",
        "    for (q, bit) in zip(qubits, marked_bitstring):\n",
        "        if not bit:\n",
        "            yield (cirq.X(q))"
      ]
    },
    {
      "cell_type": "code",
      "execution_count": null,
      "metadata": {
        "id": "pE-AEivUxz2M"
      },
      "outputs": [],
      "source": [
        "\"\"\"Simulate the circuit for Grover's algorithm and check the output.\"\"\"\n",
        "# Helper function.\n",
        "def bitstring(bits):\n",
        "    return \"\".join(str(int(b)) for b in bits)\n",
        "\n",
        "def binary_labels(num_qubits):\n",
        "    return [bin(x)[2:].zfill(num_qubits) for x in range(2 ** num_qubits)]\n",
        "\n",
        "# Sample from the circuit a couple times.\n",
        "simulator = cirq.Simulator()\n",
        "result = simulator.run(circuit, repetitions = 1024)\n",
        "\n",
        "# Look at the sampled bitstrings.\n",
        "frequencies = result.histogram(key=\"result\", fold_func=bitstring)\n",
        "print('Sampled results:\\n{}'.format(frequencies))\n",
        "\n",
        "# Check if we actually found the secret value.\n",
        "most_common_bitstring = frequencies.most_common(1)[0][0]\n",
        "print(\"\\nMost common bitstring: {}\".format(most_common_bitstring))\n",
        "print(\"Found a match? {}\".format(most_common_bitstring == bitstring(marked_bitstring)))\n",
        "\n",
        "\n",
        "# Embed the oracle into a quantum circuit implementing Grover's algorithm.\n",
        "circuit = grover_iteration(qubits, ancilla, marked_bitstring, 0)\n",
        "print(\"Circuit for Grover's algorithm:\")\n",
        "print(circuit)\n",
        "# Sample from the circuit a couple times.\n",
        "simulator = cirq.Simulator()\n",
        "result = simulator.run(circuit, repetitions = 1024)\n",
        "\n",
        "_ = cirq.plot_state_histogram(result, plt.subplot(), title = 'Grover\\'s Search', xlabel = 'Choice Number', ylabel = 'Result count', tick_label=range(2**nqubits))\n",
        "plt.show()"
      ]
    },
    {
      "cell_type": "markdown",
      "metadata": {
        "id": "RzAlLqVa9K_k"
      },
      "source": [
        "#### **Problem 2.3- Visualize the results for Grover's algorithm on this problem for 0 to 8 iterations. For each number of iterations, notice the histogram.**"
      ]
    },
    {
      "cell_type": "code",
      "execution_count": null,
      "metadata": {
        "id": "2BClppVf9LVW"
      },
      "outputs": [],
      "source": [
        "\"\"\"Create the circuit for Grover's algorithm.\"\"\"\n",
        "\n",
        "# Embed the oracle into a quantum circuit implementing Grover's algorithm.\n",
        "circuit = grover_iteration(qubits, ancilla, marked_bitstring, # COMPLETE THIS CODE\n",
        "print(\"Circuit for Grover's algorithm:\")\n",
        "print(circuit)\n",
        "# Sample from the circuit a couple times.\n",
        "simulator = cirq.Simulator()\n",
        "result = simulator.run(circuit, repetitions = 1024)\n",
        "\n",
        "_ = cirq.plot_state_histogram(result, plt.subplot(), title = 'Grover\\'s Search', xlabel = 'Choice Number', ylabel = 'Result count', tick_label=range(2**nqubits))\n",
        "plt.show()"
      ]
    },
    {
      "cell_type": "markdown",
      "metadata": {
        "id": "sv6mSGgy9LgK"
      },
      "source": [
        "#### **Problem 2.4- Which 3 numbers between 0-8 result in the right answer? Why is there more than 1 correct number of iterations?**"
      ]
    },
    {
      "cell_type": "markdown",
      "metadata": {
        "id": "fSjbG9Gn9Z6T"
      },
      "source": []
    },
    {
      "cell_type": "markdown",
      "metadata": {
        "id": "186ekNHb9L8z"
      },
      "source": [
        "#### **Problem 2.5- Based on your previous answer, come up with a rule for the number of iterations that will optimize the solution.**"
      ]
    },
    {
      "cell_type": "markdown",
      "metadata": {
        "id": "AbZSn8rI_ZJa"
      },
      "source": []
    },
    {
      "cell_type": "markdown",
      "metadata": {
        "id": "w4yoe-AmVeNi"
      },
      "source": [
        "<a name=\"p3\"></a>\n",
        "\n",
        "---\n",
        "## **Part 3: Noisy Simulations and Benchmarking**\n",
        "---"
      ]
    },
    {
      "cell_type": "markdown",
      "metadata": {
        "id": "BF0pM7q0c5wW"
      },
      "source": [
        "#### **Problem 3.1- Simulate the circuit below with a 12% chance of depolarizing noise**"
      ]
    },
    {
      "cell_type": "code",
      "execution_count": null,
      "metadata": {
        "id": "62HGDe7RePqS"
      },
      "outputs": [],
      "source": [
        "# Apply noise to the circuit below\n",
        "qubits = cirq.NamedQubit.range(4, prefix = 'q')\n",
        "circuit = cirq.Circuit()\n",
        "\n",
        "circuit.append(cirq.X(qubits[0]))\n",
        "circuit.append(cirq.H(qubits[1]))\n",
        "circuit.append(cirq.H(qubits[2]))\n",
        "circuit.append(cirq.Z(qubits[2]))\n",
        "circuit.append(cirq.CNOT(qubits[1], qubits[3]))\n",
        "print(circuit)\n",
        "circuit.append(cirq.measure(qubits))\n",
        "\n",
        "# Define a noise model\n",
        "noise = cirq.depolarize(# COMPLETE THIS CODE\n",
        "\n",
        "# Create a simulator that uses the noise model\n",
        "simulator = cirq.Simulator()\n",
        "\n",
        "# Simulate the circuit\n",
        "result = simulator.run(circuit.with_noise(# COMPLETE THIS CODE\n",
        "\n",
        "# Get the results\n",
        "hist = cirq.plot_state_histogram(result, plt.subplot(), title = '12% Depolarization', xlabel = 'States', ylabel = 'Occurrences', tick_label=binary_labels(2))\n",
        "\n",
        "plt.show()"
      ]
    },
    {
      "cell_type": "markdown",
      "metadata": {
        "id": "b8QUOMFsVuKK"
      },
      "source": [
        "#### **Problem 3.2- Simulate the teleportation circuit with a 60% chance of depolarizing noise.**\n",
        "\n"
      ]
    },
    {
      "cell_type": "code",
      "execution_count": null,
      "metadata": {
        "id": "XIrixEwLbg60"
      },
      "outputs": [],
      "source": [
        "circuit = cirq.Circuit()\n",
        "\n",
        "# Define three qubits\n",
        "msg = cirq.NamedQubit(\"Message\")\n",
        "alice = cirq.NamedQubit(\"Alice\")\n",
        "bob = cirq.NamedQubit(\"Bob\")\n",
        "\n",
        "# Create an entangled state between Alice and Bob's qubits\n",
        "circuit.append([cirq.H(alice), cirq.CNOT(alice, bob)])\n",
        "\n",
        "# PREPARE THE |1> STATE\n",
        "circuit.append([cirq.X(msg)])\n",
        "\n",
        "circuit.append([cirq.CNOT(msg, alice), cirq.H(msg), cirq.measure(msg, alice)])\n",
        "\n",
        "#=============\n",
        "# Apply Noise\n",
        "#=============\n",
        "noise = #Complete line\n",
        "for qubit in [#Complete line\n",
        "    circuit.append(#Complete line\n",
        "\n",
        "\n",
        "circuit.append([cirq.CNOT(alice, bob), cirq.CZ(msg, bob), cirq.measure(bob)])\n",
        "print(circuit)\n",
        "\n",
        "# Get a simulator.\n",
        "sim = cirq.Simulator()\n",
        "\n",
        "# Simulate the teleportation circuit.\n",
        "result = sim.run(circuit.#Complete line\n",
        "\n",
        "_ = cirq.plot_state_histogram(result, plt.subplot(), title = 'Teleportation with 60% Depolarization', xlabel = 'Qubit State', ylabel = 'Result count', tick_label=binary_labels(3))\n",
        "plt.show()\n",
        "\n"
      ]
    },
    {
      "cell_type": "markdown",
      "metadata": {
        "id": "jDNYX_Pbnt7H"
      },
      "source": [
        "#### **Problem 3.3 - Write the definition of fidelity and provide the equation we use to calculate it.**"
      ]
    },
    {
      "cell_type": "markdown",
      "metadata": {
        "id": "RrTIRXdfoaoI"
      },
      "source": []
    },
    {
      "cell_type": "markdown",
      "metadata": {
        "id": "HSSY_BRzcKLY"
      },
      "source": [
        "#### **Problem 3.4- Implement a swap test for two states: $|1\\rangle$ and $|-\\rangle$, following our four steps:**\n",
        "\n",
        "1. Prepare 2 qubits in the given states and 1 ancilla qubit in the $|0\\rangle$ state.\n",
        "\n",
        "2. Append the swap test circuit.\n",
        "\n",
        "3. Run the circuit.\n",
        "\n",
        "4. Calculate the fidelity."
      ]
    },
    {
      "cell_type": "code",
      "execution_count": null,
      "metadata": {
        "id": "zdoEP3zMb7gu"
      },
      "outputs": [],
      "source": [
        "# 1. PREPARE QUBITS\n",
        "#===================\n",
        "# COMPLETE THIS CODE\n",
        "\n",
        "# Create qubits\n",
        "q0 = cirq.NamedQubit('state 0')\n",
        "q1 = cirq.NamedQubit('state 1')\n",
        "ancilla = cirq.NamedQubit('anc')\n",
        "\n",
        "\n",
        "# Prepare the qubit states\n",
        "circuit_0 = cirq.Circuit()\n",
        "circuit_0.append(# COMPLETE THIS CODE\n",
        "\n",
        "circuit_1 = cirq.Circuit()\n",
        "circuit_1.append(# COMPLETE THIS CODE\n",
        "circuit_1.append(# COMPLETE THIS CODE\n",
        "\n",
        "circuit = # COMPLETE THIS CODE\n",
        "\n",
        "# 2. SWAP TEST CIRCUIT\n",
        "#======================\n",
        "# COMPLETE THIS CODE\n",
        "\n",
        "# Put ancilla in superposition\n",
        "circuit.append(# COMPLETE THIS CODE\n",
        "\n",
        "# Controlled-Swap controlled by ancilla and targeting q0 and q1\n",
        "circuit.append(# COMPLETE THIS CODE\n",
        "\n",
        "# Apply an H gate on the ancilla.\n",
        "circuit.append(# COMPLETE THIS CODE\n",
        "\n",
        "# Measure ancilla\n",
        "circuit.append(# COMPLETE THIS CODE\n",
        "\n",
        "\n",
        "circuit\n",
        "\n",
        "\n",
        "# 3. RUN CIRCUIT\n",
        "#================\n",
        "# COMPLETE THIS CODE\n",
        "\n",
        "simulator = cirq.Simulator()\n",
        "result = simulator.run(circuit, repetitions=# COMPLETE THIS CODE\n",
        "result\n",
        "\n",
        "# 4. CALCULATE FIDELITY\n",
        "#=======================\n",
        "# COMPLETE THIS CODE\n",
        "\n",
        "prob_0 = np.sum(result.measurements['anc']) / len(result.measurements['anc'])\n",
        "\n",
        "fidelity = # COMPLETE THIS CODE\n",
        "\n",
        "fidelity"
      ]
    },
    {
      "cell_type": "markdown",
      "metadata": {
        "id": "ELevkXPyi7vi"
      },
      "source": [
        "#### **Problem 3.5- Calculate the fidelity of $q_0$ in our typical \"ideal\" $|0\\rangle$ state (meaning there's no noise) and $q_1$ in a $|0\\rangle$ state prepared with a 27% chance of depolarization.**"
      ]
    },
    {
      "cell_type": "code",
      "execution_count": null,
      "metadata": {
        "id": "NTPWxxEpZbXd"
      },
      "outputs": [],
      "source": [
        "# 1. PREPARE QUBITS\n",
        "#===================\n",
        "# Create qubits\n",
        "q0 = cirq.NamedQubit('state 0')\n",
        "q1 = cirq.NamedQubit('state 1')\n",
        "ancilla = cirq.NamedQubit('anc')\n",
        "\n",
        "# Prepare the given states\n",
        "circuit_0 = cirq.Circuit()\n",
        "circuit_0.append(cirq.I(q0))\n",
        "\n",
        "circuit_1 = cirq.Circuit()\n",
        "circuit_1.append(cirq.I(q1))\n",
        "\n",
        "\n",
        "noise = cirq.depolarize(# COMPLETE THIS CODE\n",
        "circuit = circuit_0 + circuit_1.with_noise(# COMPLETE THIS CODE\n",
        "\n",
        "\n",
        "\n",
        "# 2. SWAP TEST CIRCUIT\n",
        "#======================\n",
        "# Put ancilla in superposition\n",
        "circuit.append(cirq.H(ancilla))\n",
        "\n",
        "# Controlled-Swap controlled by ancilla and targeting q0 and q1\n",
        "circuit.append(cirq.CSWAP(ancilla, q0, q1))\n",
        "\n",
        "# Apply an H gate on the ancilla.\n",
        "circuit.append(cirq.H(ancilla))\n",
        "\n",
        "# Measure ancilla\n",
        "circuit.append(cirq.measure(ancilla))\n",
        "\n",
        "\n",
        "\n",
        "# 3. RUN CIRCUIT\n",
        "#================\n",
        "simulator = cirq.Simulator()\n",
        "result = simulator.run(circuit, repetitions=1000)\n",
        "\n",
        "\n",
        "\n",
        "# 4. CALCULATE FIDELITY\n",
        "#=======================\n",
        "prob_0 = np.sum(result.measurements['anc']) / len(result.measurements['anc'])\n",
        "fidelity = 1 - 2*prob_0\n",
        "fidelity"
      ]
    },
    {
      "cell_type": "markdown",
      "metadata": {
        "id": "IRhxsk6DWA0D"
      },
      "source": [
        "<a name=\"p4\"></a>\n",
        "\n",
        "---\n",
        "## **Part 4: Error Correction**\n",
        "---"
      ]
    },
    {
      "cell_type": "markdown",
      "metadata": {
        "id": "ecrW8LdR8zuV"
      },
      "source": [
        "#### **Problem 4.1- Implement and explore a 3-qubit bit flip error correcting code using our 5 step process:**\n",
        "1. Encoding\n",
        "2. Sending Over Noisy Channel\n",
        "3. Error Detection\n",
        "4. Error Correction\n",
        "5. Decoding"
      ]
    },
    {
      "cell_type": "code",
      "execution_count": null,
      "metadata": {
        "id": "qERN-jb7HyoG"
      },
      "outputs": [],
      "source": [
        "#Encoding\n",
        "\n",
        "qubits = # COMPLETE THIS CODE\n",
        "encode_circuit = # COMPLETE THIS CODE\n",
        "\n",
        "encode_circuit.# COMPLETE THIS CODE\n",
        "encode_circuit.# COMPLETE THIS CODE\n",
        "\n",
        "encode_circuit\n",
        "\n",
        "#Send Over Noisy Channel\n",
        "\n",
        "noisy_channel_circuit = # COMPLETE THIS CODE\n",
        "\n",
        "noisy_channel_circuit.# COMPLETE THIS CODE\n",
        "\n",
        "noisy_channel_circuit\n",
        "\n",
        "#Error Detection\n",
        "\n",
        "detection_circuit = # COMPLETE THIS CODE\n",
        "\n",
        "detection_circuit.# COMPLETE THIS CODE\n",
        "detection_circuit.# COMPLETE THIS CODE\n",
        "\n",
        "detection_circuit\n",
        "\n",
        "#Error Correction\n",
        "\n",
        "correction_circuit = # COMPLETE THIS CODE\n",
        "\n",
        "correction_circuit.# COMPLETE THIS CODE\n",
        "\n",
        "correction_circuit\n",
        "\n",
        "#Decoding\n",
        "\n",
        "decode_circuit = # COMPLETE THIS CODE\n",
        "\n",
        "decode_circuit.# COMPLETE THIS CODE\n",
        "\n",
        "decode_circuit"
      ]
    },
    {
      "cell_type": "markdown",
      "metadata": {
        "id": "jeDmDSaz8z2d"
      },
      "source": [
        "#### **Problem 4.2- Modify the code so that the logical qubit is in the  |0⟩  state, but there is a bit flip error on both  𝑞1  and  𝑞2 . Simulate the results of performing each of these steps by adding the circuits together and simulating 500 times. Does our code still work?**"
      ]
    },
    {
      "cell_type": "code",
      "execution_count": null,
      "metadata": {
        "id": "PusWfSiZMcTf"
      },
      "outputs": [],
      "source": [
        "# NOISY CHANNEL\n",
        "noisy_channel_circuit = cirq.Circuit()\n",
        "noisy_channel_circuit.append(# COMPLETE THIS CODE\n",
        "\n",
        "# SIMULATING\n",
        "bitflip_circuit = encode_circuit + # COMPLETE THIS CODE\n",
        "\n",
        "sim = cirq.Simulator()\n",
        "result = sim.run( # COMPLETE THIS CODE\n",
        "\n",
        "hist = cirq.plot_state_histogram(result, plt.subplot(), title = 'Qubit States', xlabel = 'States', ylabel = 'Occurrences', tick_label=binary_labels(1))\n",
        "\n",
        "plt.show()"
      ]
    },
    {
      "cell_type": "markdown",
      "metadata": {
        "id": "FB1L16ma8z8S"
      },
      "source": [
        "#### **Problem 4.3- What is the difference between bit flip code and repition code.**"
      ]
    },
    {
      "cell_type": "markdown",
      "metadata": {
        "id": "oA9UYhc2Pq2C"
      },
      "source": []
    },
    {
      "cell_type": "markdown",
      "metadata": {
        "id": "_yodCimC80Bx"
      },
      "source": [
        "#### **Problem 4.4- Simulate the bitflip circuit such that the noise model acts on all the qubits during the noisy channel stage. Make sure to prepare the logical  |1⟩  state.**"
      ]
    },
    {
      "cell_type": "code",
      "execution_count": null,
      "metadata": {
        "id": "35zqZ59rJHeY"
      },
      "outputs": [],
      "source": [
        "# Define a noise model\n",
        "noise = cirq.bit_flip(0.05)# COMPLETE THIS CODE\n",
        "\n",
        "# Create circuit\n",
        "prepare_circuit = cirq.Circuit()\n",
        "prepare_circuit# COMPLETE THIS CODE\n",
        "\n",
        "bitflip_circuit = # COMPLETE THIS CODE\n",
        "\n",
        "# Create a simulator that uses the noise model\n",
        "simulator = cirq.DensityMatrixSimulator()\n",
        "\n",
        "# Simulate the circuit\n",
        "result = simulator.run(bitflip_circuit, repetitions=1000)\n",
        "\n",
        "# Get the results\n",
        "hist = cirq.plot_state_histogram(result, plt.subplot(), title = 'Qubit States', xlabel = 'States', ylabel = 'Occurrences', tick_label=binary_labels(1))\n",
        "\n",
        "plt.show()"
      ]
    },
    {
      "cell_type": "markdown",
      "metadata": {
        "id": "xOtgWZmE80HJ"
      },
      "source": [
        "#### **Problem 4.5- Now, simulate the bitflip circuit with just phase flip noise on  𝑞0  instead. Prepare the logical  |+⟩  state to start, but explore preparing other states if you have time.**\n",
        "\n",
        "NOTE: Recall from Problems #1.3 - 1.4 that we should rotate the qubit into the computational basis right before decoding (measuring) to ensure we can interpret our results. This can be accomplished by applying an H gate to  𝑞0 ."
      ]
    },
    {
      "cell_type": "code",
      "execution_count": null,
      "metadata": {
        "id": "voBegdmcKhaT"
      },
      "outputs": [],
      "source": [
        "# Define a noise model\n",
        "noise = # COMPLETE THIS CODE\n",
        "\n",
        "# Create circuit\n",
        "prepare_circuit = cirq.Circuit()\n",
        "prepare_circuit# COMPLETE THIS CODE\n",
        "\n",
        "bitflip_circuit = # COMPLETE THIS CODE\n",
        "\n",
        "# Create a simulator that uses the noise model\n",
        "simulator = cirq.DensityMatrixSimulator()\n",
        "\n",
        "# Simulate the circuit\n",
        "result = simulator.run(bitflip_circuit, repetitions=1000)\n",
        "\n",
        "# Get the results\n",
        "hist = cirq.plot_state_histogram(result, plt.subplot(), title = 'Qubit States', xlabel = 'States', ylabel = 'Occurrences', tick_label=binary_labels(1))\n",
        "\n",
        "plt.show()"
      ]
    },
    {
      "cell_type": "markdown",
      "metadata": {
        "id": "JUo3KrrHWSBv"
      },
      "source": [
        "<a name=\"p1\"></a>\n",
        "\n",
        "---\n",
        "## **Part 5: Near-Term Algorithms**\n",
        "---"
      ]
    },
    {
      "cell_type": "markdown",
      "metadata": {
        "id": "CY2hkumlWGRt"
      },
      "source": [
        "#### **Problem 5.1- Create a circuit that applies an H gate and then a 70 degree rotation around the Y axis to a single qubit and visualize the result on the Bloch sphere.**"
      ]
    },
    {
      "cell_type": "code",
      "execution_count": null,
      "metadata": {
        "id": "hVTg1oAuSKA_"
      },
      "outputs": [],
      "source": [
        "qubit = cirq.NamedQubit('q0')\n",
        "circuit = cirq.Circuit()\n",
        "\n",
        "circuit.append(# COMPLETE THIS CODE\n",
        "circuit.append(# COMPLETE THIS CODE\n",
        "\n",
        "bloch_sphere.BlochSphere(state_vector = cirq.final_state_vector(circuit))"
      ]
    },
    {
      "cell_type": "markdown",
      "metadata": {
        "id": "n38YhEaUXkXB"
      },
      "source": [
        "#### **Problem 5.2- Implement a cost function for this circuit with the four steps associated with VQE:**\n",
        "\n",
        "1. Create a circuit ansatz.\n",
        "- Prepare the $|-\\rangle$ state.\n",
        "2. Simulate the circuit and unpack the results.\n",
        "3. Calculate the average (expected) state.\n",
        "4. Calculate the average (expected) cost"
      ]
    },
    {
      "cell_type": "code",
      "execution_count": null,
      "metadata": {
        "id": "6pM6IoG1cd_x"
      },
      "outputs": [],
      "source": [
        "# 1. Create the circuit\n",
        "qubit = cirq.NamedQubit('q0')\n",
        "circuit = cirq.Circuit()\n",
        "\n",
        "circuit.append( # COMPLETE THIS CODE\n",
        "circuit.append( # COMPLETE THIS CODE\n",
        "circuit.append(cirq.measure(qubit, key='result'))\n",
        "\n",
        "\n",
        "# 2. Simulate the circuit and unpack the results\n",
        "sim = # COMPLETE THIS CODE\n",
        "results = sim.run(circuit, repetitions = 100)\n",
        "\n",
        "measurements = results.measurements['result']\n",
        "\n",
        "\n",
        "# 3. Calculate the average (expected) state\n",
        "average_state = np.mean(measurements, axis=0)\n",
        "print('Average State: ', average_state)\n",
        "\n",
        "\n",
        "# 4. Calculate the average (expected) cost\n",
        "average_cost = # COMPLETE THIS CODE\n",
        "\n",
        "\n",
        "print('Average Cost: ', average_cost)"
      ]
    },
    {
      "cell_type": "markdown",
      "metadata": {
        "id": "PG_2LttyZt-6"
      },
      "source": [
        "#### **Problem 5.3- Implement the four step process for a circuit that rotates the qubit around the Y axis by 60 degrees.**\n",
        "\n"
      ]
    },
    {
      "cell_type": "code",
      "execution_count": null,
      "metadata": {
        "id": "7eUaS3eexYyJ"
      },
      "outputs": [],
      "source": [
        "# 1. Create the circuit\n",
        "qubit = cirq.NamedQubit('q0')\n",
        "circuit = cirq.Circuit()\n",
        "\n",
        "circuit.append(# COMPLETE THIS CODE\n",
        "circuit.append(cirq.measure(qubit, key='result'))\n",
        "\n",
        "\n",
        "# 2. Simulate the circuit and unpack the results\n",
        "sim = cirq.Simulator()\n",
        "results = sim.run(circuit, repetitions = 100)\n",
        "\n",
        "measurements = results.measurements['result']\n",
        "\n",
        "\n",
        "# 3. Calculate the average (expected) state\n",
        "average_state = np.mean(measurements, axis=0)\n",
        "print('Average State: ', average_state)\n",
        "\n",
        "\n",
        "# 4. Calculate the average (expected) cost\n",
        "average_cost = # COMPLETE THIS CODE\n",
        "\n",
        "\n",
        "print('Average Cost: ', average_cost)"
      ]
    },
    {
      "cell_type": "markdown",
      "metadata": {
        "id": "3xH0vF-nZ1XF"
      },
      "source": [
        "#### **Problem 5.4- Which steps of VQE occur within the quantum computer and which steps occur within the classical computer.**"
      ]
    },
    {
      "cell_type": "markdown",
      "metadata": {
        "id": "iQaq6QYsZ1ih"
      },
      "source": [
        "#### **Problem 5.5 - Study the code below that uses a *two parameter, two qubit* ansatz and adjust it so that the optimal answer is one in which the qubits always agree with each other. In other words, prepare an equal superposition of $|00\\rangle$ and $|11\\rangle$ (the Bell state is an example of this, but for the sake of this example the *phase* doesn't matter).**\n",
        "\n",
        "<br>\n",
        "\n",
        "**NOTE**: While we can't output a Bloch Sphere since this is a two qubit state, we have provided code at the end to output the state in kets so you can verify the output.\n",
        "\n",
        "<br>\n",
        "\n",
        "**Hint**: This is an entangled state, so you will need to create a circuit ansatz capable of creating entanglement."
      ]
    },
    {
      "cell_type": "code",
      "execution_count": null,
      "metadata": {
        "id": "Y5Qhv0b8262A"
      },
      "outputs": [],
      "source": [
        "# 1. Define the average cost function ansatz\n",
        "def average_cost(angles, return_circuit = False):\n",
        "\n",
        "  # 1. Create the circuit\n",
        "  qubits = cirq.NamedQubit.range(2, prefix = 'q')\n",
        "  circuit = cirq.Circuit()\n",
        "\n",
        "  circuit.append(cirq.rz(radians(angles[0])).on(qubits[0]))\n",
        "  circuit.append(cirq.rx(radians(angles[1])).on(qubits[1]))\n",
        "\n",
        "  circuit.append(cirq.measure(qubits, key='result'))\n",
        "\n",
        "  # 2. Simulate the circuit and unpack the results\n",
        "  sim = cirq.Simulator()\n",
        "  results = sim.run(circuit, repetitions = 2000)\n",
        "\n",
        "  measurements = results.measurements['result']\n",
        "\n",
        "\n",
        "  # 3. Calculate the average (expected) state\n",
        "  average_state = np.mean(measurements, axis=0)\n",
        "\n",
        "\n",
        "  # 4. Calculate the average (expected) cost\n",
        "  average_cost = (average_state[0] - average_state[1])**2\n",
        "\n",
        "  if return_circuit:\n",
        "    print('Attempt:', angles, 'produces average cost: ', average_cost)\n",
        "    return circuit\n",
        "\n",
        "  else: return average_cost\n",
        "\n",
        "\n",
        "# 2. Define an initial guess state\n",
        "initial_guesses = [90, 0]\n",
        "\n",
        "\n",
        "# 3. Provide the average cost function ansatz and initial guess to the minimize(...) function\n",
        "result = minimize(average_cost, initial_guesses, method = 'Powell')\n",
        "\n",
        "# Output the optimized parameter\n",
        "print('\\nOptimized Angle(s) in Degrees:', [a % 360 for a in result.x])\n",
        "\n",
        "# Output the state on a Bloch Sphere\n",
        "circuit = average_cost(result.x, return_circuit = True)\n",
        "cirq.dirac_notation(cirq.final_state_vector(circuit, ignore_terminal_measurements = True))"
      ]
    },
    {
      "cell_type": "markdown",
      "metadata": {
        "id": "uv2jEhpLWhs2"
      },
      "source": [
        "<a name=\"p1\"></a>\n",
        "\n",
        "---\n",
        "## **Part 6: Quantum Networking**\n",
        "---"
      ]
    },
    {
      "cell_type": "markdown",
      "metadata": {
        "id": "vWIveOFm8dIX"
      },
      "source": [
        "#### **Problem 6.1- Create four two qubit quantum circuits that represent each bell state.**$$\\frac{1}{\\sqrt{2}}(|00\\rangle + |11\\rangle)$$ $$\\frac{1}{\\sqrt{2}}(|00\\rangle - |11\\rangle)$$\n",
        "$$\\frac{1}{\\sqrt{2}}(|01\\rangle + |10\\rangle)$$$$\\frac{1}{\\sqrt{2}}(|01\\rangle - |10\\rangle)$$\n",
        "\n",
        "**Output the final state vector in ket notation.**"
      ]
    },
    {
      "cell_type": "code",
      "execution_count": null,
      "metadata": {
        "id": "2TevOWIhp1nY"
      },
      "outputs": [],
      "source": [
        "my_qubits = cirq.NamedQubit.range(2, prefix = \"q\")\n",
        "my_circuit = cirq.Circuit()\n",
        "\n",
        "# COMPLETE THIS CODE\n",
        "\n",
        "my_circuit"
      ]
    },
    {
      "cell_type": "code",
      "execution_count": null,
      "metadata": {
        "id": "hOHLvDdPDRO_"
      },
      "outputs": [],
      "source": [
        "cirq.dirac_notation(cirq.final_state_vector(my_circuit))"
      ]
    },
    {
      "cell_type": "code",
      "execution_count": null,
      "metadata": {
        "id": "hz4IJonJCvev"
      },
      "outputs": [],
      "source": [
        "my_qubits = cirq.NamedQubit.range(2, prefix = \"q\")\n",
        "my_circuit = cirq.Circuit()\n",
        "\n",
        "# COMPLETE THIS CODE\n",
        "\n",
        "my_circuit"
      ]
    },
    {
      "cell_type": "code",
      "execution_count": null,
      "metadata": {
        "id": "7twjhGRWDQuI"
      },
      "outputs": [],
      "source": [
        "cirq.dirac_notation(cirq.final_state_vector(my_circuit))"
      ]
    },
    {
      "cell_type": "code",
      "execution_count": null,
      "metadata": {
        "id": "GnKU4e75CxMk"
      },
      "outputs": [],
      "source": [
        "my_qubits = cirq.NamedQubit.range(2, prefix = \"q\")\n",
        "my_circuit = cirq.Circuit()\n",
        "\n",
        "# COMPLETE THIS CODE\n",
        "\n",
        "my_circuit"
      ]
    },
    {
      "cell_type": "code",
      "execution_count": null,
      "metadata": {
        "id": "LWnbjidhDQTk"
      },
      "outputs": [],
      "source": [
        "cirq.dirac_notation(cirq.final_state_vector(my_circuit))"
      ]
    },
    {
      "cell_type": "code",
      "execution_count": null,
      "metadata": {
        "id": "lVBDQObyCxxo"
      },
      "outputs": [],
      "source": [
        "my_qubits = cirq.NamedQubit.range(2, prefix = \"q\")\n",
        "my_circuit = cirq.Circuit()\n",
        "\n",
        "# COMPLETE THIS CODE\n",
        "\n",
        "my_circuit"
      ]
    },
    {
      "cell_type": "code",
      "execution_count": null,
      "metadata": {
        "id": "TVo_VbF_p1nZ"
      },
      "outputs": [],
      "source": [
        "cirq.dirac_notation(cirq.final_state_vector(my_circuit))"
      ]
    },
    {
      "cell_type": "markdown",
      "metadata": {
        "id": "MY8F7Et58jig"
      },
      "source": [
        "#### **Problem 6.2- Complete this sentence. Entanglement swapping _________ the _________  _________ over which entanglement can be shared**\n",
        "\n",
        "\n"
      ]
    },
    {
      "cell_type": "markdown",
      "metadata": {
        "id": "JYYK49Nx8jo5"
      },
      "source": [
        "#### **Problem 6.3- Create an entanglement swapping circuit with 2 repeator qubits. This will create a chain of entanglement across multiple nodes (Alice - Repeater 1 - Repeater 2 - Bob).**"
      ]
    },
    {
      "cell_type": "code",
      "execution_count": null,
      "metadata": {
        "id": "6oJ3d2mg0JfR"
      },
      "outputs": [],
      "source": [
        "# Create qubits: Alice, Bob, and two repeaters\n",
        "\n",
        "\n",
        "# Create a circuit\n",
        "circuit = cirq.Circuit()\n",
        "\n",
        "# Prepare Bell state between Alice and Repeater 1, and between Repeater 2 and Bob\n",
        "circuit.append([ # COMPLETE THIS CODE\n",
        "circuit.append([ # COMPLETE THIS CODE\n",
        "\n",
        "# Entanglement swapping process (entangle Repeater 1 with Repeater 2)\n",
        "circuit.append([ # COMPLETE THIS CODE\n",
        "\n",
        "# Measure Repeater 1 and Repeater 2 qubits to swap entanglement\n",
        "circuit.append([cirq.measure # COMPLETE THIS CODE\n",
        "\n",
        "# Simulate the circuit\n",
        "simulator = cirq.Simulator()\n",
        "result = simulator.run(circuit, repetitions=1000)\n",
        "\n",
        "# Get the results\n",
        "hist = cirq.plot_state_histogram(result, plt.subplot(), title = 'Entanglement Swapping', xlabel = 'States', ylabel = 'Occurrences', tick_label=binary_labels(1))\n",
        "\n",
        "plt.show()"
      ]
    },
    {
      "cell_type": "markdown",
      "metadata": {
        "id": "TEgi5Tx68jvW"
      },
      "source": [
        "#### **Problem 6.4- Modify the code above to achieve teleportation with two repeator qubits.**"
      ]
    },
    {
      "cell_type": "code",
      "execution_count": null,
      "metadata": {
        "id": "lSxcNGOZ82tJ"
      },
      "outputs": [],
      "source": [
        "# Create qubits for Alice, Bob, and the two repeaters\n",
        "alice_qubit, alice_aux, repeater1_qubit, repeater2_qubit, bob_qubit = cirq.LineQubit.range(5)\n",
        "\n",
        "# Create a circuit\n",
        "circuit = cirq.Circuit()\n",
        "\n",
        "# Alice's unknown state\n",
        "circuit.append(cirq.H(alice_qubit))\n",
        "\n",
        "# Prepare Bell state between Alice's auxiliary qubit and Repeater 1, and between Repeater 2 and Bob\n",
        "circuit.append( # COMPLETE THIS CODE\n",
        "circuit.append( # COMPLETE THIS CODE\n",
        "\n",
        "# Alice performs a Bell measurement on her qubits\n",
        "circuit.append([cirq.CNOT(alice_qubit, alice_aux), cirq.H(alice_qubit)])\n",
        "circuit.append( # COMPLETE THIS CODE\n",
        "\n",
        "# Depending on Alice's measurement, Repeater1 applies corrections\n",
        "circuit.append( # COMPLETE THIS CODE\n",
        "circuit.append( # COMPLETE THIS CODE\n",
        "\n",
        "# Repeater1 and Repeater2 perform entanglement swapping\n",
        "circuit.append([cirq.H(repeater1_qubit), cirq.CNOT(repeater1_qubit, repeater2_qubit)])\n",
        "circuit.append(cirq.measure(repeater1_qubit, repeater2_qubit))\n",
        "\n",
        "# Depending on Repeater1's measurement, Repeater2 applies corrections to Bob's qubit\n",
        "circuit.append( # COMPLETE THIS CODE\n",
        "circuit.append( # COMPLETE THIS CODE\n",
        "\n",
        "# Simulate the circuit\n",
        "simulator = cirq.Simulator()\n",
        "result = simulator.run(circuit, repetitions=1000)\n",
        "\n",
        "# Print the circuit and results\n",
        "hist = cirq.plot_state_histogram(result, plt.subplot(), title = 'Teleportation', xlabel = 'Qubit State', ylabel = 'Result count', tick_label=binary_labels(4))\n",
        "\n",
        "plt.show()\n"
      ]
    },
    {
      "cell_type": "markdown",
      "metadata": {
        "id": "okx2kEvi8j1i"
      },
      "source": [
        "#### **Problem 6.5 - Experiment with adding depolarizing noise to the teleportation circuit. How does increasing the probability of noise change the histogram?**\n",
        "\n",
        "##### **Example: Test 0.01,0.1,0.5**"
      ]
    },
    {
      "cell_type": "code",
      "execution_count": null,
      "metadata": {
        "id": "r-yD9Cz4AzSx"
      },
      "outputs": [],
      "source": [
        "# Create qubits for Alice, Bob, and the two repeaters\n",
        "alice_qubit, alice_aux, repeater1_qubit, repeater2_qubit, bob_qubit = cirq.LineQubit.range(5)\n",
        "\n",
        "# Define a depolarizing noise model\n",
        "probability_of_noise = # COMPLETE THIS CODE\n",
        "noise = cirq.depolarize(probability_of_noise)\n",
        "\n",
        "# Create a circuit\n",
        "circuit = cirq.Circuit()\n",
        "\n",
        "# Alice's unknown state\n",
        "circuit.append(cirq.H(alice_qubit))\n",
        "\n",
        "# Prepare Bell state between Alice's auxiliary qubit and Repeater 1, and between Repeater 2 and Bob\n",
        "circuit.append([cirq.H(alice_aux), cirq.CNOT(alice_aux, repeater1_qubit), noise(alice_aux), noise(repeater1_qubit)])\n",
        "circuit.append([cirq.H(repeater2_qubit), cirq.CNOT(repeater2_qubit, bob_qubit), noise(repeater2_qubit), noise(bob_qubit)])\n",
        "\n",
        "# Alice performs a Bell measurement on her qubits\n",
        "circuit.append([cirq.CNOT(alice_qubit, alice_aux), cirq.H(alice_qubit), noise(alice_qubit), noise(alice_aux)])\n",
        "circuit.append(cirq.measure(alice_qubit, alice_aux))\n",
        "\n",
        "# Depending on Alice's measurement, Repeater1 applies corrections\n",
        "circuit.append(cirq.CNOT(alice_aux, repeater1_qubit))\n",
        "circuit.append(cirq.CZ(alice_qubit, repeater1_qubit))\n",
        "circuit.append([noise(repeater1_qubit)])\n",
        "\n",
        "# Repeater1 and Repeater2 perform entanglement swapping\n",
        "circuit.append([cirq.H(repeater1_qubit), cirq.CNOT(repeater1_qubit, repeater2_qubit)])\n",
        "circuit.append(cirq.measure(repeater1_qubit, repeater2_qubit))\n",
        "circuit.append([noise(repeater1_qubit), noise(repeater2_qubit)])\n",
        "\n",
        "# Depending on Repeater1's measurement, Repeater2 applies corrections to Bob's qubit\n",
        "circuit.append(cirq.CNOT(repeater2_qubit, bob_qubit))\n",
        "circuit.append(cirq.CZ(repeater1_qubit, bob_qubit))\n",
        "circuit.append([noise(bob_qubit)])\n",
        "\n",
        "# Simulate the circuit\n",
        "simulator = cirq.Simulator()\n",
        "result = simulator.run(circuit, repetitions=1000)\n",
        "\n",
        "# Print the circuit and results\n",
        "hist = cirq.plot_state_histogram(result, plt.subplot(), title = 'Teleportation', xlabel = 'Qubit State', ylabel = 'Result count', tick_label=binary_labels(4))\n",
        "\n",
        "plt.show()"
      ]
    },
    {
      "cell_type": "markdown",
      "metadata": {
        "id": "TCT34S3QRZ89"
      },
      "source": [
        "# End of Lab\n",
        "\n",
        "---\n",
        "\n",
        "© 2024 The Coding School, All rights reserved"
      ]
    }
  ],
  "metadata": {
    "colab": {
      "toc_visible": true,
      "provenance": [],
      "include_colab_link": true
    },
    "kernelspec": {
      "display_name": "Python 3",
      "name": "python3"
    },
    "language_info": {
      "name": "python"
    }
  },
  "nbformat": 4,
  "nbformat_minor": 0
}